{
  "nbformat": 4,
  "nbformat_minor": 0,
  "metadata": {
    "kernelspec": {
      "display_name": "Python 3",
      "language": "python",
      "name": "python3"
    },
    "language_info": {
      "codemirror_mode": {
        "name": "ipython",
        "version": 3
      },
      "file_extension": ".py",
      "mimetype": "text/x-python",
      "name": "python",
      "nbconvert_exporter": "python",
      "pygments_lexer": "ipython3",
      "version": "3.7.3"
    },
    "colab": {
      "name": "Stock Market Data for Clean Energy.ipynb",
      "provenance": [],
      "collapsed_sections": []
    }
  },
  "cells": [
    {
      "cell_type": "code",
      "metadata": {
        "id": "UcTTRcE-ZY9l",
        "colab_type": "code",
        "colab": {
          "base_uri": "https://localhost:8080/",
          "height": 377
        },
        "outputId": "5e444298-01c6-4e42-c113-e92d1dfd5cdb"
      },
      "source": [
        "pip install yfinance"
      ],
      "execution_count": 1,
      "outputs": [
        {
          "output_type": "stream",
          "text": [
            "Collecting yfinance\n",
            "  Downloading https://files.pythonhosted.org/packages/c2/31/8b374a12b90def92a4e27d0fc595fc43635f395984e36a075244d98bd265/yfinance-0.1.54.tar.gz\n",
            "Requirement already satisfied: pandas>=0.24 in /usr/local/lib/python3.6/dist-packages (from yfinance) (1.0.5)\n",
            "Requirement already satisfied: numpy>=1.15 in /usr/local/lib/python3.6/dist-packages (from yfinance) (1.18.5)\n",
            "Requirement already satisfied: requests>=2.20 in /usr/local/lib/python3.6/dist-packages (from yfinance) (2.23.0)\n",
            "Requirement already satisfied: multitasking>=0.0.7 in /usr/local/lib/python3.6/dist-packages (from yfinance) (0.0.9)\n",
            "Requirement already satisfied: python-dateutil>=2.6.1 in /usr/local/lib/python3.6/dist-packages (from pandas>=0.24->yfinance) (2.8.1)\n",
            "Requirement already satisfied: pytz>=2017.2 in /usr/local/lib/python3.6/dist-packages (from pandas>=0.24->yfinance) (2018.9)\n",
            "Requirement already satisfied: urllib3!=1.25.0,!=1.25.1,<1.26,>=1.21.1 in /usr/local/lib/python3.6/dist-packages (from requests>=2.20->yfinance) (1.24.3)\n",
            "Requirement already satisfied: idna<3,>=2.5 in /usr/local/lib/python3.6/dist-packages (from requests>=2.20->yfinance) (2.10)\n",
            "Requirement already satisfied: certifi>=2017.4.17 in /usr/local/lib/python3.6/dist-packages (from requests>=2.20->yfinance) (2020.6.20)\n",
            "Requirement already satisfied: chardet<4,>=3.0.2 in /usr/local/lib/python3.6/dist-packages (from requests>=2.20->yfinance) (3.0.4)\n",
            "Requirement already satisfied: six>=1.5 in /usr/local/lib/python3.6/dist-packages (from python-dateutil>=2.6.1->pandas>=0.24->yfinance) (1.15.0)\n",
            "Building wheels for collected packages: yfinance\n",
            "  Building wheel for yfinance (setup.py) ... \u001b[?25l\u001b[?25hdone\n",
            "  Created wheel for yfinance: filename=yfinance-0.1.54-py2.py3-none-any.whl size=22409 sha256=14e19f3d699dcfbc400821c0ab56a32eabd211bad175ab4c6f39a5379a37ee0a\n",
            "  Stored in directory: /root/.cache/pip/wheels/f9/e3/5b/ec24dd2984b12d61e0abf26289746c2436a0e7844f26f2515c\n",
            "Successfully built yfinance\n",
            "Installing collected packages: yfinance\n",
            "Successfully installed yfinance-0.1.54\n"
          ],
          "name": "stdout"
        }
      ]
    },
    {
      "cell_type": "markdown",
      "metadata": {
        "id": "jDXMLzhRZazB",
        "colab_type": "text"
      },
      "source": [
        "**Import Libraries**"
      ]
    },
    {
      "cell_type": "code",
      "metadata": {
        "id": "vqMkexTPGwNK",
        "colab_type": "code",
        "colab": {
          "base_uri": "https://localhost:8080/",
          "height": 88
        },
        "outputId": "e53dadbe-842c-4fb7-a1d3-839774037820"
      },
      "source": [
        "import yfinance as yf\n",
        "\n",
        "import pandas as pd\n",
        "import numpy as np\n",
        "import matplotlib.pyplot as plt\n",
        "import seaborn as sns\n",
        "from scipy.stats import norm\n",
        "\n",
        "\n",
        "\n",
        "import pandas_datareader as pdd\n",
        "import pandas_datareader.data as web\n",
        "from datetime import datetime, date\n",
        "from sklearn.metrics import mean_squared_error, mean_absolute_error\n",
        "from sklearn.preprocessing import minmax_scale\n",
        "from keras.callbacks import ModelCheckpoint, EarlyStopping\n",
        "from keras.models import Sequential, Model\n",
        "from keras.layers import Dense, LSTM, Input, concatenate, Embedding, Reshape\n",
        "import keras\n",
        "import keras.backend as K\n",
        "import tensorflow as tf\n",
        "\n",
        "\n",
        "\n",
        "%matplotlib inline\n",
        "sns.set()\n"
      ],
      "execution_count": 2,
      "outputs": [
        {
          "output_type": "stream",
          "text": [
            "/usr/local/lib/python3.6/dist-packages/statsmodels/tools/_testing.py:19: FutureWarning: pandas.util.testing is deprecated. Use the functions in the public API at pandas.testing instead.\n",
            "  import pandas.util.testing as tm\n",
            "Using TensorFlow backend.\n"
          ],
          "name": "stderr"
        }
      ]
    },
    {
      "cell_type": "code",
      "metadata": {
        "id": "Ovr6MdJJZR9f",
        "colab_type": "code",
        "colab": {}
      },
      "source": [
        "np.random.seed(42)\n",
        "K.clear_session()"
      ],
      "execution_count": 3,
      "outputs": []
    },
    {
      "cell_type": "code",
      "metadata": {
        "id": "gs5VaJ4QZSle",
        "colab_type": "code",
        "colab": {}
      },
      "source": [
        "from numpy.random import seed\n",
        "seed(7)\n",
        "tf.random.set_seed(7)"
      ],
      "execution_count": 4,
      "outputs": []
    },
    {
      "cell_type": "markdown",
      "metadata": {
        "id": "VcBg7A5yZsi7",
        "colab_type": "text"
      },
      "source": [
        "**Data Cleaning and Exploration**"
      ]
    },
    {
      "cell_type": "code",
      "metadata": {
        "id": "SAxFGlceGwNP",
        "colab_type": "code",
        "colab": {}
      },
      "source": [
        "#define the tickers list\n",
        "#Edison International, Sempra Energy, Tesla, Pacific Gas and Electric, NextEra Energy, Brookfield Renewable Partners\n",
        "tickers_list = ['EIX', 'SRE', 'TSLA', 'PCG', 'NEE', 'BEP']"
      ],
      "execution_count": 5,
      "outputs": []
    },
    {
      "cell_type": "code",
      "metadata": {
        "id": "v--aThOsGwNV",
        "colab_type": "code",
        "colab": {
          "base_uri": "https://localhost:8080/",
          "height": 34
        },
        "outputId": "45dec01a-2170-43f9-fb89-cc2591f9a2c4"
      },
      "source": [
        "main_data=yf.download(tickers_list,start='2010-6-30',end='2020-7-21')"
      ],
      "execution_count": 6,
      "outputs": [
        {
          "output_type": "stream",
          "text": [
            "[*********************100%***********************]  6 of 6 completed\n"
          ],
          "name": "stdout"
        }
      ]
    },
    {
      "cell_type": "code",
      "metadata": {
        "id": "4_VpsKyPGwNZ",
        "colab_type": "code",
        "colab": {
          "base_uri": "https://localhost:8080/",
          "height": 371
        },
        "outputId": "ae46570e-3699-4a7e-bc0e-1f1d45fc4086"
      },
      "source": [
        "main_data.head()"
      ],
      "execution_count": 7,
      "outputs": [
        {
          "output_type": "execute_result",
          "data": {
            "text/html": [
              "<div>\n",
              "<style scoped>\n",
              "    .dataframe tbody tr th:only-of-type {\n",
              "        vertical-align: middle;\n",
              "    }\n",
              "\n",
              "    .dataframe tbody tr th {\n",
              "        vertical-align: top;\n",
              "    }\n",
              "\n",
              "    .dataframe thead tr th {\n",
              "        text-align: left;\n",
              "    }\n",
              "\n",
              "    .dataframe thead tr:last-of-type th {\n",
              "        text-align: right;\n",
              "    }\n",
              "</style>\n",
              "<table border=\"1\" class=\"dataframe\">\n",
              "  <thead>\n",
              "    <tr>\n",
              "      <th></th>\n",
              "      <th colspan=\"6\" halign=\"left\">Adj Close</th>\n",
              "      <th colspan=\"6\" halign=\"left\">Close</th>\n",
              "      <th colspan=\"6\" halign=\"left\">High</th>\n",
              "      <th colspan=\"6\" halign=\"left\">Low</th>\n",
              "      <th colspan=\"6\" halign=\"left\">Open</th>\n",
              "      <th colspan=\"6\" halign=\"left\">Volume</th>\n",
              "    </tr>\n",
              "    <tr>\n",
              "      <th></th>\n",
              "      <th>BEP</th>\n",
              "      <th>EIX</th>\n",
              "      <th>NEE</th>\n",
              "      <th>PCG</th>\n",
              "      <th>SRE</th>\n",
              "      <th>TSLA</th>\n",
              "      <th>BEP</th>\n",
              "      <th>EIX</th>\n",
              "      <th>NEE</th>\n",
              "      <th>PCG</th>\n",
              "      <th>SRE</th>\n",
              "      <th>TSLA</th>\n",
              "      <th>BEP</th>\n",
              "      <th>EIX</th>\n",
              "      <th>NEE</th>\n",
              "      <th>PCG</th>\n",
              "      <th>SRE</th>\n",
              "      <th>TSLA</th>\n",
              "      <th>BEP</th>\n",
              "      <th>EIX</th>\n",
              "      <th>NEE</th>\n",
              "      <th>PCG</th>\n",
              "      <th>SRE</th>\n",
              "      <th>TSLA</th>\n",
              "      <th>BEP</th>\n",
              "      <th>EIX</th>\n",
              "      <th>NEE</th>\n",
              "      <th>PCG</th>\n",
              "      <th>SRE</th>\n",
              "      <th>TSLA</th>\n",
              "      <th>BEP</th>\n",
              "      <th>EIX</th>\n",
              "      <th>NEE</th>\n",
              "      <th>PCG</th>\n",
              "      <th>SRE</th>\n",
              "      <th>TSLA</th>\n",
              "    </tr>\n",
              "    <tr>\n",
              "      <th>Date</th>\n",
              "      <th></th>\n",
              "      <th></th>\n",
              "      <th></th>\n",
              "      <th></th>\n",
              "      <th></th>\n",
              "      <th></th>\n",
              "      <th></th>\n",
              "      <th></th>\n",
              "      <th></th>\n",
              "      <th></th>\n",
              "      <th></th>\n",
              "      <th></th>\n",
              "      <th></th>\n",
              "      <th></th>\n",
              "      <th></th>\n",
              "      <th></th>\n",
              "      <th></th>\n",
              "      <th></th>\n",
              "      <th></th>\n",
              "      <th></th>\n",
              "      <th></th>\n",
              "      <th></th>\n",
              "      <th></th>\n",
              "      <th></th>\n",
              "      <th></th>\n",
              "      <th></th>\n",
              "      <th></th>\n",
              "      <th></th>\n",
              "      <th></th>\n",
              "      <th></th>\n",
              "      <th></th>\n",
              "      <th></th>\n",
              "      <th></th>\n",
              "      <th></th>\n",
              "      <th></th>\n",
              "      <th></th>\n",
              "    </tr>\n",
              "  </thead>\n",
              "  <tbody>\n",
              "    <tr>\n",
              "      <th>2010-06-30</th>\n",
              "      <td>9.647870</td>\n",
              "      <td>22.918180</td>\n",
              "      <td>35.278999</td>\n",
              "      <td>31.186274</td>\n",
              "      <td>34.306126</td>\n",
              "      <td>23.830000</td>\n",
              "      <td>18.830000</td>\n",
              "      <td>31.719999</td>\n",
              "      <td>48.759998</td>\n",
              "      <td>41.099998</td>\n",
              "      <td>46.790001</td>\n",
              "      <td>23.830000</td>\n",
              "      <td>18.879999</td>\n",
              "      <td>32.330002</td>\n",
              "      <td>49.630001</td>\n",
              "      <td>41.860001</td>\n",
              "      <td>47.720001</td>\n",
              "      <td>30.420000</td>\n",
              "      <td>18.809999</td>\n",
              "      <td>31.629999</td>\n",
              "      <td>48.529999</td>\n",
              "      <td>40.970001</td>\n",
              "      <td>46.590000</td>\n",
              "      <td>23.299999</td>\n",
              "      <td>18.830000</td>\n",
              "      <td>31.889999</td>\n",
              "      <td>48.549999</td>\n",
              "      <td>41.509998</td>\n",
              "      <td>47.340000</td>\n",
              "      <td>25.790001</td>\n",
              "      <td>6200.0</td>\n",
              "      <td>1894100.0</td>\n",
              "      <td>2951000.0</td>\n",
              "      <td>2169100.0</td>\n",
              "      <td>2094000.0</td>\n",
              "      <td>17187100.0</td>\n",
              "    </tr>\n",
              "    <tr>\n",
              "      <th>2010-07-01</th>\n",
              "      <td>9.647870</td>\n",
              "      <td>22.621950</td>\n",
              "      <td>35.416481</td>\n",
              "      <td>30.988977</td>\n",
              "      <td>34.042171</td>\n",
              "      <td>21.959999</td>\n",
              "      <td>18.830000</td>\n",
              "      <td>31.309999</td>\n",
              "      <td>48.950001</td>\n",
              "      <td>40.840000</td>\n",
              "      <td>46.430000</td>\n",
              "      <td>21.959999</td>\n",
              "      <td>18.830000</td>\n",
              "      <td>31.709999</td>\n",
              "      <td>49.020000</td>\n",
              "      <td>41.029999</td>\n",
              "      <td>46.990002</td>\n",
              "      <td>25.920000</td>\n",
              "      <td>18.830000</td>\n",
              "      <td>31.059999</td>\n",
              "      <td>48.439999</td>\n",
              "      <td>40.520000</td>\n",
              "      <td>46.250000</td>\n",
              "      <td>20.270000</td>\n",
              "      <td>18.830000</td>\n",
              "      <td>31.660000</td>\n",
              "      <td>49.020000</td>\n",
              "      <td>40.970001</td>\n",
              "      <td>46.959999</td>\n",
              "      <td>25.000000</td>\n",
              "      <td>0.0</td>\n",
              "      <td>3260600.0</td>\n",
              "      <td>2345200.0</td>\n",
              "      <td>3150800.0</td>\n",
              "      <td>2130000.0</td>\n",
              "      <td>8218800.0</td>\n",
              "    </tr>\n",
              "    <tr>\n",
              "      <th>2010-07-02</th>\n",
              "      <td>9.601758</td>\n",
              "      <td>22.491901</td>\n",
              "      <td>35.423706</td>\n",
              "      <td>30.905512</td>\n",
              "      <td>34.100826</td>\n",
              "      <td>19.200001</td>\n",
              "      <td>18.740000</td>\n",
              "      <td>31.129999</td>\n",
              "      <td>48.959999</td>\n",
              "      <td>40.730000</td>\n",
              "      <td>46.509998</td>\n",
              "      <td>19.200001</td>\n",
              "      <td>18.910000</td>\n",
              "      <td>31.530001</td>\n",
              "      <td>49.360001</td>\n",
              "      <td>40.990002</td>\n",
              "      <td>46.810001</td>\n",
              "      <td>23.100000</td>\n",
              "      <td>18.709999</td>\n",
              "      <td>31.100000</td>\n",
              "      <td>48.830002</td>\n",
              "      <td>40.549999</td>\n",
              "      <td>46.250000</td>\n",
              "      <td>18.709999</td>\n",
              "      <td>18.889999</td>\n",
              "      <td>31.290001</td>\n",
              "      <td>49.130001</td>\n",
              "      <td>40.990002</td>\n",
              "      <td>46.459999</td>\n",
              "      <td>23.000000</td>\n",
              "      <td>4100.0</td>\n",
              "      <td>2337400.0</td>\n",
              "      <td>1489600.0</td>\n",
              "      <td>2055400.0</td>\n",
              "      <td>1440100.0</td>\n",
              "      <td>5139800.0</td>\n",
              "    </tr>\n",
              "    <tr>\n",
              "      <th>2010-07-06</th>\n",
              "      <td>9.596629</td>\n",
              "      <td>22.766451</td>\n",
              "      <td>35.742054</td>\n",
              "      <td>31.406309</td>\n",
              "      <td>34.504086</td>\n",
              "      <td>16.110001</td>\n",
              "      <td>18.730000</td>\n",
              "      <td>31.510000</td>\n",
              "      <td>49.400002</td>\n",
              "      <td>41.389999</td>\n",
              "      <td>47.060001</td>\n",
              "      <td>16.110001</td>\n",
              "      <td>18.980000</td>\n",
              "      <td>31.860001</td>\n",
              "      <td>49.889999</td>\n",
              "      <td>41.470001</td>\n",
              "      <td>47.299999</td>\n",
              "      <td>20.000000</td>\n",
              "      <td>18.730000</td>\n",
              "      <td>31.260000</td>\n",
              "      <td>48.970001</td>\n",
              "      <td>40.830002</td>\n",
              "      <td>46.540001</td>\n",
              "      <td>15.830000</td>\n",
              "      <td>18.860001</td>\n",
              "      <td>31.570000</td>\n",
              "      <td>49.419998</td>\n",
              "      <td>40.970001</td>\n",
              "      <td>46.730000</td>\n",
              "      <td>20.000000</td>\n",
              "      <td>4900.0</td>\n",
              "      <td>2432700.0</td>\n",
              "      <td>1143800.0</td>\n",
              "      <td>1875700.0</td>\n",
              "      <td>1303900.0</td>\n",
              "      <td>6866900.0</td>\n",
              "    </tr>\n",
              "    <tr>\n",
              "      <th>2010-07-07</th>\n",
              "      <td>9.704230</td>\n",
              "      <td>23.561220</td>\n",
              "      <td>36.754993</td>\n",
              "      <td>32.066452</td>\n",
              "      <td>35.552563</td>\n",
              "      <td>15.800000</td>\n",
              "      <td>18.940001</td>\n",
              "      <td>32.610001</td>\n",
              "      <td>50.799999</td>\n",
              "      <td>42.259998</td>\n",
              "      <td>48.490002</td>\n",
              "      <td>15.800000</td>\n",
              "      <td>18.969999</td>\n",
              "      <td>32.650002</td>\n",
              "      <td>50.830002</td>\n",
              "      <td>42.290001</td>\n",
              "      <td>48.500000</td>\n",
              "      <td>16.629999</td>\n",
              "      <td>18.750000</td>\n",
              "      <td>31.540001</td>\n",
              "      <td>49.320000</td>\n",
              "      <td>41.220001</td>\n",
              "      <td>46.930000</td>\n",
              "      <td>14.980000</td>\n",
              "      <td>18.750000</td>\n",
              "      <td>31.680000</td>\n",
              "      <td>49.700001</td>\n",
              "      <td>41.270000</td>\n",
              "      <td>47.009998</td>\n",
              "      <td>16.400000</td>\n",
              "      <td>5800.0</td>\n",
              "      <td>2278800.0</td>\n",
              "      <td>1965700.0</td>\n",
              "      <td>2526800.0</td>\n",
              "      <td>1562300.0</td>\n",
              "      <td>6921700.0</td>\n",
              "    </tr>\n",
              "  </tbody>\n",
              "</table>\n",
              "</div>"
            ],
            "text/plain": [
              "           Adj Close                        ...     Volume                       \n",
              "                 BEP        EIX        NEE  ...        PCG        SRE        TSLA\n",
              "Date                                        ...                                  \n",
              "2010-06-30  9.647870  22.918180  35.278999  ...  2169100.0  2094000.0  17187100.0\n",
              "2010-07-01  9.647870  22.621950  35.416481  ...  3150800.0  2130000.0   8218800.0\n",
              "2010-07-02  9.601758  22.491901  35.423706  ...  2055400.0  1440100.0   5139800.0\n",
              "2010-07-06  9.596629  22.766451  35.742054  ...  1875700.0  1303900.0   6866900.0\n",
              "2010-07-07  9.704230  23.561220  36.754993  ...  2526800.0  1562300.0   6921700.0\n",
              "\n",
              "[5 rows x 36 columns]"
            ]
          },
          "metadata": {
            "tags": []
          },
          "execution_count": 7
        }
      ]
    },
    {
      "cell_type": "code",
      "metadata": {
        "id": "FgnA66PHJ6aN",
        "colab_type": "code",
        "colab": {
          "base_uri": "https://localhost:8080/",
          "height": 371
        },
        "outputId": "11ae7b25-5950-4dfd-974f-102fa6abfa5e"
      },
      "source": [
        "main_data.tail()"
      ],
      "execution_count": 8,
      "outputs": [
        {
          "output_type": "execute_result",
          "data": {
            "text/html": [
              "<div>\n",
              "<style scoped>\n",
              "    .dataframe tbody tr th:only-of-type {\n",
              "        vertical-align: middle;\n",
              "    }\n",
              "\n",
              "    .dataframe tbody tr th {\n",
              "        vertical-align: top;\n",
              "    }\n",
              "\n",
              "    .dataframe thead tr th {\n",
              "        text-align: left;\n",
              "    }\n",
              "\n",
              "    .dataframe thead tr:last-of-type th {\n",
              "        text-align: right;\n",
              "    }\n",
              "</style>\n",
              "<table border=\"1\" class=\"dataframe\">\n",
              "  <thead>\n",
              "    <tr>\n",
              "      <th></th>\n",
              "      <th colspan=\"6\" halign=\"left\">Adj Close</th>\n",
              "      <th colspan=\"6\" halign=\"left\">Close</th>\n",
              "      <th colspan=\"6\" halign=\"left\">High</th>\n",
              "      <th colspan=\"6\" halign=\"left\">Low</th>\n",
              "      <th colspan=\"6\" halign=\"left\">Open</th>\n",
              "      <th colspan=\"6\" halign=\"left\">Volume</th>\n",
              "    </tr>\n",
              "    <tr>\n",
              "      <th></th>\n",
              "      <th>BEP</th>\n",
              "      <th>EIX</th>\n",
              "      <th>NEE</th>\n",
              "      <th>PCG</th>\n",
              "      <th>SRE</th>\n",
              "      <th>TSLA</th>\n",
              "      <th>BEP</th>\n",
              "      <th>EIX</th>\n",
              "      <th>NEE</th>\n",
              "      <th>PCG</th>\n",
              "      <th>SRE</th>\n",
              "      <th>TSLA</th>\n",
              "      <th>BEP</th>\n",
              "      <th>EIX</th>\n",
              "      <th>NEE</th>\n",
              "      <th>PCG</th>\n",
              "      <th>SRE</th>\n",
              "      <th>TSLA</th>\n",
              "      <th>BEP</th>\n",
              "      <th>EIX</th>\n",
              "      <th>NEE</th>\n",
              "      <th>PCG</th>\n",
              "      <th>SRE</th>\n",
              "      <th>TSLA</th>\n",
              "      <th>BEP</th>\n",
              "      <th>EIX</th>\n",
              "      <th>NEE</th>\n",
              "      <th>PCG</th>\n",
              "      <th>SRE</th>\n",
              "      <th>TSLA</th>\n",
              "      <th>BEP</th>\n",
              "      <th>EIX</th>\n",
              "      <th>NEE</th>\n",
              "      <th>PCG</th>\n",
              "      <th>SRE</th>\n",
              "      <th>TSLA</th>\n",
              "    </tr>\n",
              "    <tr>\n",
              "      <th>Date</th>\n",
              "      <th></th>\n",
              "      <th></th>\n",
              "      <th></th>\n",
              "      <th></th>\n",
              "      <th></th>\n",
              "      <th></th>\n",
              "      <th></th>\n",
              "      <th></th>\n",
              "      <th></th>\n",
              "      <th></th>\n",
              "      <th></th>\n",
              "      <th></th>\n",
              "      <th></th>\n",
              "      <th></th>\n",
              "      <th></th>\n",
              "      <th></th>\n",
              "      <th></th>\n",
              "      <th></th>\n",
              "      <th></th>\n",
              "      <th></th>\n",
              "      <th></th>\n",
              "      <th></th>\n",
              "      <th></th>\n",
              "      <th></th>\n",
              "      <th></th>\n",
              "      <th></th>\n",
              "      <th></th>\n",
              "      <th></th>\n",
              "      <th></th>\n",
              "      <th></th>\n",
              "      <th></th>\n",
              "      <th></th>\n",
              "      <th></th>\n",
              "      <th></th>\n",
              "      <th></th>\n",
              "      <th></th>\n",
              "    </tr>\n",
              "  </thead>\n",
              "  <tbody>\n",
              "    <tr>\n",
              "      <th>2020-07-14</th>\n",
              "      <td>51.650002</td>\n",
              "      <td>56.669998</td>\n",
              "      <td>262.549988</td>\n",
              "      <td>9.36</td>\n",
              "      <td>121.839996</td>\n",
              "      <td>1516.800049</td>\n",
              "      <td>51.650002</td>\n",
              "      <td>56.669998</td>\n",
              "      <td>262.549988</td>\n",
              "      <td>9.36</td>\n",
              "      <td>121.839996</td>\n",
              "      <td>1516.800049</td>\n",
              "      <td>51.669998</td>\n",
              "      <td>57.320000</td>\n",
              "      <td>264.690002</td>\n",
              "      <td>9.36</td>\n",
              "      <td>122.510002</td>\n",
              "      <td>1590.000000</td>\n",
              "      <td>49.410000</td>\n",
              "      <td>55.980000</td>\n",
              "      <td>255.860001</td>\n",
              "      <td>8.90</td>\n",
              "      <td>120.349998</td>\n",
              "      <td>1431.0</td>\n",
              "      <td>49.500000</td>\n",
              "      <td>56.220001</td>\n",
              "      <td>256.239990</td>\n",
              "      <td>8.97</td>\n",
              "      <td>120.360001</td>\n",
              "      <td>1556.000000</td>\n",
              "      <td>477500.0</td>\n",
              "      <td>2884200.0</td>\n",
              "      <td>3038600.0</td>\n",
              "      <td>16119500.0</td>\n",
              "      <td>2113600.0</td>\n",
              "      <td>23418100.0</td>\n",
              "    </tr>\n",
              "    <tr>\n",
              "      <th>2020-07-15</th>\n",
              "      <td>53.439999</td>\n",
              "      <td>55.279999</td>\n",
              "      <td>259.000000</td>\n",
              "      <td>9.20</td>\n",
              "      <td>123.150002</td>\n",
              "      <td>1546.010010</td>\n",
              "      <td>53.439999</td>\n",
              "      <td>55.279999</td>\n",
              "      <td>259.000000</td>\n",
              "      <td>9.20</td>\n",
              "      <td>123.150002</td>\n",
              "      <td>1546.010010</td>\n",
              "      <td>53.450001</td>\n",
              "      <td>57.590000</td>\n",
              "      <td>266.420013</td>\n",
              "      <td>9.50</td>\n",
              "      <td>125.120003</td>\n",
              "      <td>1550.000000</td>\n",
              "      <td>51.950001</td>\n",
              "      <td>55.060001</td>\n",
              "      <td>258.809998</td>\n",
              "      <td>9.17</td>\n",
              "      <td>122.449997</td>\n",
              "      <td>1457.0</td>\n",
              "      <td>51.950001</td>\n",
              "      <td>57.330002</td>\n",
              "      <td>264.579987</td>\n",
              "      <td>9.42</td>\n",
              "      <td>123.250000</td>\n",
              "      <td>1543.000000</td>\n",
              "      <td>459900.0</td>\n",
              "      <td>2507100.0</td>\n",
              "      <td>2111200.0</td>\n",
              "      <td>19555600.0</td>\n",
              "      <td>2277000.0</td>\n",
              "      <td>16367800.0</td>\n",
              "    </tr>\n",
              "    <tr>\n",
              "      <th>2020-07-16</th>\n",
              "      <td>53.459999</td>\n",
              "      <td>56.090000</td>\n",
              "      <td>268.380005</td>\n",
              "      <td>9.02</td>\n",
              "      <td>122.629997</td>\n",
              "      <td>1500.640015</td>\n",
              "      <td>53.459999</td>\n",
              "      <td>56.090000</td>\n",
              "      <td>268.380005</td>\n",
              "      <td>9.02</td>\n",
              "      <td>122.629997</td>\n",
              "      <td>1500.640015</td>\n",
              "      <td>53.700001</td>\n",
              "      <td>56.630001</td>\n",
              "      <td>269.799988</td>\n",
              "      <td>9.19</td>\n",
              "      <td>123.529999</td>\n",
              "      <td>1531.709961</td>\n",
              "      <td>52.680000</td>\n",
              "      <td>55.139999</td>\n",
              "      <td>258.750000</td>\n",
              "      <td>8.93</td>\n",
              "      <td>121.570000</td>\n",
              "      <td>1466.0</td>\n",
              "      <td>53.599998</td>\n",
              "      <td>55.360001</td>\n",
              "      <td>259.850006</td>\n",
              "      <td>9.19</td>\n",
              "      <td>122.800003</td>\n",
              "      <td>1477.160034</td>\n",
              "      <td>373800.0</td>\n",
              "      <td>1598300.0</td>\n",
              "      <td>2535500.0</td>\n",
              "      <td>17867200.0</td>\n",
              "      <td>1372100.0</td>\n",
              "      <td>14300800.0</td>\n",
              "    </tr>\n",
              "    <tr>\n",
              "      <th>2020-07-17</th>\n",
              "      <td>55.730000</td>\n",
              "      <td>56.360001</td>\n",
              "      <td>275.380005</td>\n",
              "      <td>9.22</td>\n",
              "      <td>124.820000</td>\n",
              "      <td>1500.839966</td>\n",
              "      <td>55.730000</td>\n",
              "      <td>56.360001</td>\n",
              "      <td>275.380005</td>\n",
              "      <td>9.22</td>\n",
              "      <td>124.820000</td>\n",
              "      <td>1500.839966</td>\n",
              "      <td>55.740002</td>\n",
              "      <td>56.639999</td>\n",
              "      <td>277.459991</td>\n",
              "      <td>9.28</td>\n",
              "      <td>124.980003</td>\n",
              "      <td>1537.510010</td>\n",
              "      <td>53.459999</td>\n",
              "      <td>55.930000</td>\n",
              "      <td>268.929993</td>\n",
              "      <td>8.88</td>\n",
              "      <td>122.940002</td>\n",
              "      <td>1490.0</td>\n",
              "      <td>53.750000</td>\n",
              "      <td>56.500000</td>\n",
              "      <td>270.059998</td>\n",
              "      <td>8.92</td>\n",
              "      <td>122.959999</td>\n",
              "      <td>1513.449951</td>\n",
              "      <td>537200.0</td>\n",
              "      <td>1784800.0</td>\n",
              "      <td>3115400.0</td>\n",
              "      <td>19234100.0</td>\n",
              "      <td>1936100.0</td>\n",
              "      <td>9330000.0</td>\n",
              "    </tr>\n",
              "    <tr>\n",
              "      <th>2020-07-20</th>\n",
              "      <td>55.820000</td>\n",
              "      <td>54.889999</td>\n",
              "      <td>274.329987</td>\n",
              "      <td>9.33</td>\n",
              "      <td>122.620003</td>\n",
              "      <td>1643.000000</td>\n",
              "      <td>55.820000</td>\n",
              "      <td>54.889999</td>\n",
              "      <td>274.329987</td>\n",
              "      <td>9.33</td>\n",
              "      <td>122.620003</td>\n",
              "      <td>1643.000000</td>\n",
              "      <td>56.619999</td>\n",
              "      <td>56.000000</td>\n",
              "      <td>277.880005</td>\n",
              "      <td>9.43</td>\n",
              "      <td>124.720001</td>\n",
              "      <td>1650.000000</td>\n",
              "      <td>55.320000</td>\n",
              "      <td>54.770000</td>\n",
              "      <td>273.250000</td>\n",
              "      <td>9.07</td>\n",
              "      <td>122.190002</td>\n",
              "      <td>1488.0</td>\n",
              "      <td>56.150002</td>\n",
              "      <td>55.980000</td>\n",
              "      <td>275.500000</td>\n",
              "      <td>9.11</td>\n",
              "      <td>124.010002</td>\n",
              "      <td>1519.010010</td>\n",
              "      <td>487900.0</td>\n",
              "      <td>2044800.0</td>\n",
              "      <td>1592200.0</td>\n",
              "      <td>17643400.0</td>\n",
              "      <td>1228600.0</td>\n",
              "      <td>17121400.0</td>\n",
              "    </tr>\n",
              "  </tbody>\n",
              "</table>\n",
              "</div>"
            ],
            "text/plain": [
              "            Adj Close                         ...      Volume                       \n",
              "                  BEP        EIX         NEE  ...         PCG        SRE        TSLA\n",
              "Date                                          ...                                   \n",
              "2020-07-14  51.650002  56.669998  262.549988  ...  16119500.0  2113600.0  23418100.0\n",
              "2020-07-15  53.439999  55.279999  259.000000  ...  19555600.0  2277000.0  16367800.0\n",
              "2020-07-16  53.459999  56.090000  268.380005  ...  17867200.0  1372100.0  14300800.0\n",
              "2020-07-17  55.730000  56.360001  275.380005  ...  19234100.0  1936100.0   9330000.0\n",
              "2020-07-20  55.820000  54.889999  274.329987  ...  17643400.0  1228600.0  17121400.0\n",
              "\n",
              "[5 rows x 36 columns]"
            ]
          },
          "metadata": {
            "tags": []
          },
          "execution_count": 8
        }
      ]
    },
    {
      "cell_type": "code",
      "metadata": {
        "id": "hGkpbCtAIzJR",
        "colab_type": "code",
        "colab": {}
      },
      "source": [
        "main_data.to_csv('main_data.csv',index=True)"
      ],
      "execution_count": 9,
      "outputs": []
    },
    {
      "cell_type": "markdown",
      "metadata": {
        "id": "GF_scAZlQb4U",
        "colab_type": "text"
      },
      "source": [
        "Retrieve dataframe with just the Close"
      ]
    },
    {
      "cell_type": "code",
      "metadata": {
        "scrolled": true,
        "id": "pzunSuggGwOS",
        "colab_type": "code",
        "colab": {
          "base_uri": "https://localhost:8080/",
          "height": 34
        },
        "outputId": "aef70568-aed6-4d54-bb69-974e33bc032f"
      },
      "source": [
        "close_data=yf.download(tickers_list,start='2010-6-30',end='2020-7-20')['Close']"
      ],
      "execution_count": 10,
      "outputs": [
        {
          "output_type": "stream",
          "text": [
            "[*********************100%***********************]  6 of 6 completed\n"
          ],
          "name": "stdout"
        }
      ]
    },
    {
      "cell_type": "code",
      "metadata": {
        "id": "p585_FtiGwOZ",
        "colab_type": "code",
        "colab": {
          "base_uri": "https://localhost:8080/",
          "height": 235
        },
        "outputId": "57d6a1dd-8efc-42e4-fabd-dadd8681d442"
      },
      "source": [
        "close_data.head()"
      ],
      "execution_count": 11,
      "outputs": [
        {
          "output_type": "execute_result",
          "data": {
            "text/html": [
              "<div>\n",
              "<style scoped>\n",
              "    .dataframe tbody tr th:only-of-type {\n",
              "        vertical-align: middle;\n",
              "    }\n",
              "\n",
              "    .dataframe tbody tr th {\n",
              "        vertical-align: top;\n",
              "    }\n",
              "\n",
              "    .dataframe thead th {\n",
              "        text-align: right;\n",
              "    }\n",
              "</style>\n",
              "<table border=\"1\" class=\"dataframe\">\n",
              "  <thead>\n",
              "    <tr style=\"text-align: right;\">\n",
              "      <th></th>\n",
              "      <th>BEP</th>\n",
              "      <th>EIX</th>\n",
              "      <th>NEE</th>\n",
              "      <th>PCG</th>\n",
              "      <th>SRE</th>\n",
              "      <th>TSLA</th>\n",
              "    </tr>\n",
              "    <tr>\n",
              "      <th>Date</th>\n",
              "      <th></th>\n",
              "      <th></th>\n",
              "      <th></th>\n",
              "      <th></th>\n",
              "      <th></th>\n",
              "      <th></th>\n",
              "    </tr>\n",
              "  </thead>\n",
              "  <tbody>\n",
              "    <tr>\n",
              "      <th>2010-06-30</th>\n",
              "      <td>18.830000</td>\n",
              "      <td>31.719999</td>\n",
              "      <td>48.759998</td>\n",
              "      <td>41.099998</td>\n",
              "      <td>46.790001</td>\n",
              "      <td>23.830000</td>\n",
              "    </tr>\n",
              "    <tr>\n",
              "      <th>2010-07-01</th>\n",
              "      <td>18.830000</td>\n",
              "      <td>31.309999</td>\n",
              "      <td>48.950001</td>\n",
              "      <td>40.840000</td>\n",
              "      <td>46.430000</td>\n",
              "      <td>21.959999</td>\n",
              "    </tr>\n",
              "    <tr>\n",
              "      <th>2010-07-02</th>\n",
              "      <td>18.740000</td>\n",
              "      <td>31.129999</td>\n",
              "      <td>48.959999</td>\n",
              "      <td>40.730000</td>\n",
              "      <td>46.509998</td>\n",
              "      <td>19.200001</td>\n",
              "    </tr>\n",
              "    <tr>\n",
              "      <th>2010-07-06</th>\n",
              "      <td>18.730000</td>\n",
              "      <td>31.510000</td>\n",
              "      <td>49.400002</td>\n",
              "      <td>41.389999</td>\n",
              "      <td>47.060001</td>\n",
              "      <td>16.110001</td>\n",
              "    </tr>\n",
              "    <tr>\n",
              "      <th>2010-07-07</th>\n",
              "      <td>18.940001</td>\n",
              "      <td>32.610001</td>\n",
              "      <td>50.799999</td>\n",
              "      <td>42.259998</td>\n",
              "      <td>48.490002</td>\n",
              "      <td>15.800000</td>\n",
              "    </tr>\n",
              "  </tbody>\n",
              "</table>\n",
              "</div>"
            ],
            "text/plain": [
              "                  BEP        EIX        NEE        PCG        SRE       TSLA\n",
              "Date                                                                        \n",
              "2010-06-30  18.830000  31.719999  48.759998  41.099998  46.790001  23.830000\n",
              "2010-07-01  18.830000  31.309999  48.950001  40.840000  46.430000  21.959999\n",
              "2010-07-02  18.740000  31.129999  48.959999  40.730000  46.509998  19.200001\n",
              "2010-07-06  18.730000  31.510000  49.400002  41.389999  47.060001  16.110001\n",
              "2010-07-07  18.940001  32.610001  50.799999  42.259998  48.490002  15.800000"
            ]
          },
          "metadata": {
            "tags": []
          },
          "execution_count": 11
        }
      ]
    },
    {
      "cell_type": "code",
      "metadata": {
        "id": "AJkDFjLEGwOc",
        "colab_type": "code",
        "colab": {
          "base_uri": "https://localhost:8080/",
          "height": 238
        },
        "outputId": "6ca66575-19a5-4b32-9a20-ea840dfaebde"
      },
      "source": [
        "#data info\n",
        "close_data.info()"
      ],
      "execution_count": 12,
      "outputs": [
        {
          "output_type": "stream",
          "text": [
            "<class 'pandas.core.frame.DataFrame'>\n",
            "DatetimeIndex: 2531 entries, 2010-06-30 to 2020-07-17\n",
            "Data columns (total 6 columns):\n",
            " #   Column  Non-Null Count  Dtype  \n",
            "---  ------  --------------  -----  \n",
            " 0   BEP     2530 non-null   float64\n",
            " 1   EIX     2530 non-null   float64\n",
            " 2   NEE     2530 non-null   float64\n",
            " 3   PCG     2530 non-null   float64\n",
            " 4   SRE     2530 non-null   float64\n",
            " 5   TSLA    2530 non-null   float64\n",
            "dtypes: float64(6)\n",
            "memory usage: 138.4 KB\n"
          ],
          "name": "stdout"
        }
      ]
    },
    {
      "cell_type": "code",
      "metadata": {
        "id": "hYrd9aqORQA0",
        "colab_type": "code",
        "colab": {}
      },
      "source": [
        "#export data for editing\n",
        "close_data.to_csv('close_data.csv',index=True)"
      ],
      "execution_count": 16,
      "outputs": []
    },
    {
      "cell_type": "markdown",
      "metadata": {
        "id": "VCyA-t7GY_R0",
        "colab_type": "text"
      },
      "source": [
        "Importing the new dataframe after we have introduced the new dummy variables"
      ]
    },
    {
      "cell_type": "code",
      "metadata": {
        "id": "pTSaHH1rRhNO",
        "colab_type": "code",
        "colab": {}
      },
      "source": [
        "#import the new file\n",
        "data=pd.read_csv('close_data_dummies.csv')"
      ],
      "execution_count": 17,
      "outputs": []
    },
    {
      "cell_type": "code",
      "metadata": {
        "id": "dU0L3bglXx8t",
        "colab_type": "code",
        "colab": {
          "base_uri": "https://localhost:8080/",
          "height": 224
        },
        "outputId": "1c5e901c-6426-482a-8988-1ca1788c9d13"
      },
      "source": [
        "data.head()"
      ],
      "execution_count": 18,
      "outputs": [
        {
          "output_type": "execute_result",
          "data": {
            "text/html": [
              "<div>\n",
              "<style scoped>\n",
              "    .dataframe tbody tr th:only-of-type {\n",
              "        vertical-align: middle;\n",
              "    }\n",
              "\n",
              "    .dataframe tbody tr th {\n",
              "        vertical-align: top;\n",
              "    }\n",
              "\n",
              "    .dataframe thead th {\n",
              "        text-align: right;\n",
              "    }\n",
              "</style>\n",
              "<table border=\"1\" class=\"dataframe\">\n",
              "  <thead>\n",
              "    <tr style=\"text-align: right;\">\n",
              "      <th></th>\n",
              "      <th>Date</th>\n",
              "      <th>BEP</th>\n",
              "      <th>EIX</th>\n",
              "      <th>NEE</th>\n",
              "      <th>PCG</th>\n",
              "      <th>SRE</th>\n",
              "      <th>TSLA</th>\n",
              "      <th>Day</th>\n",
              "      <th>Week_Day</th>\n",
              "      <th>Week_Num</th>\n",
              "      <th>Month</th>\n",
              "      <th>Year</th>\n",
              "      <th>Mon</th>\n",
              "      <th>Tue</th>\n",
              "      <th>Wed</th>\n",
              "      <th>Thur</th>\n",
              "      <th>Fri</th>\n",
              "      <th>Sat</th>\n",
              "      <th>Sun</th>\n",
              "      <th>Jan</th>\n",
              "      <th>Feb</th>\n",
              "      <th>Mar</th>\n",
              "      <th>Apr</th>\n",
              "      <th>May</th>\n",
              "      <th>Jun</th>\n",
              "      <th>Jul</th>\n",
              "      <th>Aug</th>\n",
              "      <th>Sep</th>\n",
              "      <th>Oct</th>\n",
              "      <th>Nov</th>\n",
              "      <th>Dec</th>\n",
              "      <th>Year_ID</th>\n",
              "    </tr>\n",
              "  </thead>\n",
              "  <tbody>\n",
              "    <tr>\n",
              "      <th>0</th>\n",
              "      <td>6/30/10</td>\n",
              "      <td>18.830000</td>\n",
              "      <td>31.719999</td>\n",
              "      <td>48.759998</td>\n",
              "      <td>41.099998</td>\n",
              "      <td>46.790001</td>\n",
              "      <td>23.830000</td>\n",
              "      <td>30</td>\n",
              "      <td>4</td>\n",
              "      <td>27</td>\n",
              "      <td>6</td>\n",
              "      <td>2010</td>\n",
              "      <td>0</td>\n",
              "      <td>0</td>\n",
              "      <td>1</td>\n",
              "      <td>0</td>\n",
              "      <td>0</td>\n",
              "      <td>0</td>\n",
              "      <td>0</td>\n",
              "      <td>0</td>\n",
              "      <td>0</td>\n",
              "      <td>0</td>\n",
              "      <td>0</td>\n",
              "      <td>0</td>\n",
              "      <td>1</td>\n",
              "      <td>0</td>\n",
              "      <td>0</td>\n",
              "      <td>0</td>\n",
              "      <td>0</td>\n",
              "      <td>0</td>\n",
              "      <td>0</td>\n",
              "      <td>1</td>\n",
              "    </tr>\n",
              "    <tr>\n",
              "      <th>1</th>\n",
              "      <td>7/1/10</td>\n",
              "      <td>18.830000</td>\n",
              "      <td>31.309999</td>\n",
              "      <td>48.950001</td>\n",
              "      <td>40.840000</td>\n",
              "      <td>46.430000</td>\n",
              "      <td>21.959999</td>\n",
              "      <td>1</td>\n",
              "      <td>5</td>\n",
              "      <td>27</td>\n",
              "      <td>7</td>\n",
              "      <td>2010</td>\n",
              "      <td>0</td>\n",
              "      <td>0</td>\n",
              "      <td>0</td>\n",
              "      <td>1</td>\n",
              "      <td>0</td>\n",
              "      <td>0</td>\n",
              "      <td>0</td>\n",
              "      <td>0</td>\n",
              "      <td>0</td>\n",
              "      <td>0</td>\n",
              "      <td>0</td>\n",
              "      <td>0</td>\n",
              "      <td>0</td>\n",
              "      <td>1</td>\n",
              "      <td>0</td>\n",
              "      <td>0</td>\n",
              "      <td>0</td>\n",
              "      <td>0</td>\n",
              "      <td>0</td>\n",
              "      <td>1</td>\n",
              "    </tr>\n",
              "    <tr>\n",
              "      <th>2</th>\n",
              "      <td>7/2/10</td>\n",
              "      <td>18.740000</td>\n",
              "      <td>31.129999</td>\n",
              "      <td>48.959999</td>\n",
              "      <td>40.730000</td>\n",
              "      <td>46.509998</td>\n",
              "      <td>19.200001</td>\n",
              "      <td>2</td>\n",
              "      <td>6</td>\n",
              "      <td>27</td>\n",
              "      <td>7</td>\n",
              "      <td>2010</td>\n",
              "      <td>0</td>\n",
              "      <td>0</td>\n",
              "      <td>0</td>\n",
              "      <td>0</td>\n",
              "      <td>1</td>\n",
              "      <td>0</td>\n",
              "      <td>0</td>\n",
              "      <td>0</td>\n",
              "      <td>0</td>\n",
              "      <td>0</td>\n",
              "      <td>0</td>\n",
              "      <td>0</td>\n",
              "      <td>0</td>\n",
              "      <td>1</td>\n",
              "      <td>0</td>\n",
              "      <td>0</td>\n",
              "      <td>0</td>\n",
              "      <td>0</td>\n",
              "      <td>0</td>\n",
              "      <td>1</td>\n",
              "    </tr>\n",
              "    <tr>\n",
              "      <th>3</th>\n",
              "      <td>7/6/10</td>\n",
              "      <td>18.730000</td>\n",
              "      <td>31.510000</td>\n",
              "      <td>49.400002</td>\n",
              "      <td>41.389999</td>\n",
              "      <td>47.060001</td>\n",
              "      <td>16.110001</td>\n",
              "      <td>6</td>\n",
              "      <td>3</td>\n",
              "      <td>28</td>\n",
              "      <td>7</td>\n",
              "      <td>2010</td>\n",
              "      <td>0</td>\n",
              "      <td>1</td>\n",
              "      <td>0</td>\n",
              "      <td>0</td>\n",
              "      <td>0</td>\n",
              "      <td>0</td>\n",
              "      <td>0</td>\n",
              "      <td>0</td>\n",
              "      <td>0</td>\n",
              "      <td>0</td>\n",
              "      <td>0</td>\n",
              "      <td>0</td>\n",
              "      <td>0</td>\n",
              "      <td>1</td>\n",
              "      <td>0</td>\n",
              "      <td>0</td>\n",
              "      <td>0</td>\n",
              "      <td>0</td>\n",
              "      <td>0</td>\n",
              "      <td>1</td>\n",
              "    </tr>\n",
              "    <tr>\n",
              "      <th>4</th>\n",
              "      <td>7/7/10</td>\n",
              "      <td>18.940001</td>\n",
              "      <td>32.610001</td>\n",
              "      <td>50.799999</td>\n",
              "      <td>42.259998</td>\n",
              "      <td>48.490002</td>\n",
              "      <td>15.800000</td>\n",
              "      <td>7</td>\n",
              "      <td>4</td>\n",
              "      <td>28</td>\n",
              "      <td>7</td>\n",
              "      <td>2010</td>\n",
              "      <td>0</td>\n",
              "      <td>0</td>\n",
              "      <td>1</td>\n",
              "      <td>0</td>\n",
              "      <td>0</td>\n",
              "      <td>0</td>\n",
              "      <td>0</td>\n",
              "      <td>0</td>\n",
              "      <td>0</td>\n",
              "      <td>0</td>\n",
              "      <td>0</td>\n",
              "      <td>0</td>\n",
              "      <td>0</td>\n",
              "      <td>1</td>\n",
              "      <td>0</td>\n",
              "      <td>0</td>\n",
              "      <td>0</td>\n",
              "      <td>0</td>\n",
              "      <td>0</td>\n",
              "      <td>1</td>\n",
              "    </tr>\n",
              "  </tbody>\n",
              "</table>\n",
              "</div>"
            ],
            "text/plain": [
              "      Date        BEP        EIX        NEE  ...  Oct  Nov  Dec  Year_ID\n",
              "0  6/30/10  18.830000  31.719999  48.759998  ...    0    0    0        1\n",
              "1   7/1/10  18.830000  31.309999  48.950001  ...    0    0    0        1\n",
              "2   7/2/10  18.740000  31.129999  48.959999  ...    0    0    0        1\n",
              "3   7/6/10  18.730000  31.510000  49.400002  ...    0    0    0        1\n",
              "4   7/7/10  18.940001  32.610001  50.799999  ...    0    0    0        1\n",
              "\n",
              "[5 rows x 32 columns]"
            ]
          },
          "metadata": {
            "tags": []
          },
          "execution_count": 18
        }
      ]
    },
    {
      "cell_type": "code",
      "metadata": {
        "id": "CpR9Q9l2Xy8q",
        "colab_type": "code",
        "colab": {
          "base_uri": "https://localhost:8080/",
          "height": 680
        },
        "outputId": "3d200da5-6b32-4753-a86c-2ec6b25bbd1e"
      },
      "source": [
        "#DataFrame Info\n",
        "data.info()"
      ],
      "execution_count": 19,
      "outputs": [
        {
          "output_type": "stream",
          "text": [
            "<class 'pandas.core.frame.DataFrame'>\n",
            "RangeIndex: 2531 entries, 0 to 2530\n",
            "Data columns (total 32 columns):\n",
            " #   Column    Non-Null Count  Dtype  \n",
            "---  ------    --------------  -----  \n",
            " 0   Date      2531 non-null   object \n",
            " 1   BEP       2530 non-null   float64\n",
            " 2   EIX       2530 non-null   float64\n",
            " 3   NEE       2530 non-null   float64\n",
            " 4   PCG       2530 non-null   float64\n",
            " 5   SRE       2530 non-null   float64\n",
            " 6   TSLA      2530 non-null   float64\n",
            " 7   Day       2531 non-null   int64  \n",
            " 8   Week_Day  2531 non-null   int64  \n",
            " 9   Week_Num  2531 non-null   int64  \n",
            " 10  Month     2531 non-null   int64  \n",
            " 11  Year      2531 non-null   int64  \n",
            " 12  Mon       2531 non-null   int64  \n",
            " 13  Tue       2531 non-null   int64  \n",
            " 14  Wed       2531 non-null   int64  \n",
            " 15  Thur      2531 non-null   int64  \n",
            " 16  Fri       2531 non-null   int64  \n",
            " 17  Sat       2531 non-null   int64  \n",
            " 18  Sun       2531 non-null   int64  \n",
            " 19  Jan       2531 non-null   int64  \n",
            " 20  Feb       2531 non-null   int64  \n",
            " 21  Mar       2531 non-null   int64  \n",
            " 22  Apr       2531 non-null   int64  \n",
            " 23  May       2531 non-null   int64  \n",
            " 24  Jun       2531 non-null   int64  \n",
            " 25  Jul       2531 non-null   int64  \n",
            " 26  Aug       2531 non-null   int64  \n",
            " 27  Sep       2531 non-null   int64  \n",
            " 28  Oct       2531 non-null   int64  \n",
            " 29  Nov       2531 non-null   int64  \n",
            " 30  Dec       2531 non-null   int64  \n",
            " 31  Year_ID   2531 non-null   int64  \n",
            "dtypes: float64(6), int64(25), object(1)\n",
            "memory usage: 632.9+ KB\n"
          ],
          "name": "stdout"
        }
      ]
    },
    {
      "cell_type": "code",
      "metadata": {
        "id": "5mzXZnFXbDir",
        "colab_type": "code",
        "colab": {
          "base_uri": "https://localhost:8080/",
          "height": 317
        },
        "outputId": "2b6f223b-2d09-4584-bf0f-62aa4e9c3c25"
      },
      "source": [
        "#summary of data\n",
        "data.describe()"
      ],
      "execution_count": 20,
      "outputs": [
        {
          "output_type": "execute_result",
          "data": {
            "text/html": [
              "<div>\n",
              "<style scoped>\n",
              "    .dataframe tbody tr th:only-of-type {\n",
              "        vertical-align: middle;\n",
              "    }\n",
              "\n",
              "    .dataframe tbody tr th {\n",
              "        vertical-align: top;\n",
              "    }\n",
              "\n",
              "    .dataframe thead th {\n",
              "        text-align: right;\n",
              "    }\n",
              "</style>\n",
              "<table border=\"1\" class=\"dataframe\">\n",
              "  <thead>\n",
              "    <tr style=\"text-align: right;\">\n",
              "      <th></th>\n",
              "      <th>BEP</th>\n",
              "      <th>EIX</th>\n",
              "      <th>NEE</th>\n",
              "      <th>PCG</th>\n",
              "      <th>SRE</th>\n",
              "      <th>TSLA</th>\n",
              "      <th>Day</th>\n",
              "      <th>Week_Day</th>\n",
              "      <th>Week_Num</th>\n",
              "      <th>Month</th>\n",
              "      <th>Year</th>\n",
              "      <th>Mon</th>\n",
              "      <th>Tue</th>\n",
              "      <th>Wed</th>\n",
              "      <th>Thur</th>\n",
              "      <th>Fri</th>\n",
              "      <th>Sat</th>\n",
              "      <th>Sun</th>\n",
              "      <th>Jan</th>\n",
              "      <th>Feb</th>\n",
              "      <th>Mar</th>\n",
              "      <th>Apr</th>\n",
              "      <th>May</th>\n",
              "      <th>Jun</th>\n",
              "      <th>Jul</th>\n",
              "      <th>Aug</th>\n",
              "      <th>Sep</th>\n",
              "      <th>Oct</th>\n",
              "      <th>Nov</th>\n",
              "      <th>Dec</th>\n",
              "      <th>Year_ID</th>\n",
              "    </tr>\n",
              "  </thead>\n",
              "  <tbody>\n",
              "    <tr>\n",
              "      <th>count</th>\n",
              "      <td>2530.000000</td>\n",
              "      <td>2530.000000</td>\n",
              "      <td>2530.000000</td>\n",
              "      <td>2530.000000</td>\n",
              "      <td>2530.000000</td>\n",
              "      <td>2530.000000</td>\n",
              "      <td>2531.000000</td>\n",
              "      <td>2531.000000</td>\n",
              "      <td>2531.000000</td>\n",
              "      <td>2531.000000</td>\n",
              "      <td>2531.000000</td>\n",
              "      <td>2531.000000</td>\n",
              "      <td>2531.000000</td>\n",
              "      <td>2531.000000</td>\n",
              "      <td>2531.000000</td>\n",
              "      <td>2531.000000</td>\n",
              "      <td>2531.0</td>\n",
              "      <td>2531.0</td>\n",
              "      <td>2531.000000</td>\n",
              "      <td>2531.000000</td>\n",
              "      <td>2531.000000</td>\n",
              "      <td>2531.000000</td>\n",
              "      <td>2531.000000</td>\n",
              "      <td>2531.000000</td>\n",
              "      <td>2531.000000</td>\n",
              "      <td>2531.000000</td>\n",
              "      <td>2531.000000</td>\n",
              "      <td>2531.000000</td>\n",
              "      <td>2531.000000</td>\n",
              "      <td>2531.000000</td>\n",
              "      <td>2531.000000</td>\n",
              "    </tr>\n",
              "    <tr>\n",
              "      <th>mean</th>\n",
              "      <td>30.046557</td>\n",
              "      <td>57.494162</td>\n",
              "      <td>118.836324</td>\n",
              "      <td>43.562245</td>\n",
              "      <td>95.922538</td>\n",
              "      <td>215.445435</td>\n",
              "      <td>15.715923</td>\n",
              "      <td>4.024101</td>\n",
              "      <td>27.048202</td>\n",
              "      <td>6.541288</td>\n",
              "      <td>2015.016989</td>\n",
              "      <td>0.187673</td>\n",
              "      <td>0.204662</td>\n",
              "      <td>0.204662</td>\n",
              "      <td>0.201896</td>\n",
              "      <td>0.201106</td>\n",
              "      <td>0.0</td>\n",
              "      <td>0.0</td>\n",
              "      <td>0.080601</td>\n",
              "      <td>0.075859</td>\n",
              "      <td>0.085737</td>\n",
              "      <td>0.081786</td>\n",
              "      <td>0.084552</td>\n",
              "      <td>0.084552</td>\n",
              "      <td>0.088107</td>\n",
              "      <td>0.088107</td>\n",
              "      <td>0.080205</td>\n",
              "      <td>0.086922</td>\n",
              "      <td>0.080996</td>\n",
              "      <td>0.082576</td>\n",
              "      <td>6.016989</td>\n",
              "    </tr>\n",
              "    <tr>\n",
              "      <th>std</th>\n",
              "      <td>6.108211</td>\n",
              "      <td>13.401390</td>\n",
              "      <td>56.114268</td>\n",
              "      <td>15.127931</td>\n",
              "      <td>27.028766</td>\n",
              "      <td>184.932700</td>\n",
              "      <td>8.748817</td>\n",
              "      <td>1.400668</td>\n",
              "      <td>14.925879</td>\n",
              "      <td>3.416794</td>\n",
              "      <td>2.931515</td>\n",
              "      <td>0.390528</td>\n",
              "      <td>0.403534</td>\n",
              "      <td>0.403534</td>\n",
              "      <td>0.401495</td>\n",
              "      <td>0.400907</td>\n",
              "      <td>0.0</td>\n",
              "      <td>0.0</td>\n",
              "      <td>0.272274</td>\n",
              "      <td>0.264825</td>\n",
              "      <td>0.280030</td>\n",
              "      <td>0.274092</td>\n",
              "      <td>0.278268</td>\n",
              "      <td>0.278268</td>\n",
              "      <td>0.283507</td>\n",
              "      <td>0.283507</td>\n",
              "      <td>0.271665</td>\n",
              "      <td>0.281777</td>\n",
              "      <td>0.272882</td>\n",
              "      <td>0.275295</td>\n",
              "      <td>2.931515</td>\n",
              "    </tr>\n",
              "    <tr>\n",
              "      <th>min</th>\n",
              "      <td>18.730000</td>\n",
              "      <td>31.129999</td>\n",
              "      <td>48.759998</td>\n",
              "      <td>3.800000</td>\n",
              "      <td>45.590000</td>\n",
              "      <td>15.800000</td>\n",
              "      <td>1.000000</td>\n",
              "      <td>2.000000</td>\n",
              "      <td>1.000000</td>\n",
              "      <td>1.000000</td>\n",
              "      <td>2010.000000</td>\n",
              "      <td>0.000000</td>\n",
              "      <td>0.000000</td>\n",
              "      <td>0.000000</td>\n",
              "      <td>0.000000</td>\n",
              "      <td>0.000000</td>\n",
              "      <td>0.0</td>\n",
              "      <td>0.0</td>\n",
              "      <td>0.000000</td>\n",
              "      <td>0.000000</td>\n",
              "      <td>0.000000</td>\n",
              "      <td>0.000000</td>\n",
              "      <td>0.000000</td>\n",
              "      <td>0.000000</td>\n",
              "      <td>0.000000</td>\n",
              "      <td>0.000000</td>\n",
              "      <td>0.000000</td>\n",
              "      <td>0.000000</td>\n",
              "      <td>0.000000</td>\n",
              "      <td>0.000000</td>\n",
              "      <td>1.000000</td>\n",
              "    </tr>\n",
              "    <tr>\n",
              "      <th>25%</th>\n",
              "      <td>26.865000</td>\n",
              "      <td>45.972501</td>\n",
              "      <td>71.302502</td>\n",
              "      <td>41.110001</td>\n",
              "      <td>71.959999</td>\n",
              "      <td>35.152501</td>\n",
              "      <td>8.000000</td>\n",
              "      <td>3.000000</td>\n",
              "      <td>14.000000</td>\n",
              "      <td>4.000000</td>\n",
              "      <td>2013.000000</td>\n",
              "      <td>0.000000</td>\n",
              "      <td>0.000000</td>\n",
              "      <td>0.000000</td>\n",
              "      <td>0.000000</td>\n",
              "      <td>0.000000</td>\n",
              "      <td>0.0</td>\n",
              "      <td>0.0</td>\n",
              "      <td>0.000000</td>\n",
              "      <td>0.000000</td>\n",
              "      <td>0.000000</td>\n",
              "      <td>0.000000</td>\n",
              "      <td>0.000000</td>\n",
              "      <td>0.000000</td>\n",
              "      <td>0.000000</td>\n",
              "      <td>0.000000</td>\n",
              "      <td>0.000000</td>\n",
              "      <td>0.000000</td>\n",
              "      <td>0.000000</td>\n",
              "      <td>0.000000</td>\n",
              "      <td>4.000000</td>\n",
              "    </tr>\n",
              "    <tr>\n",
              "      <th>50%</th>\n",
              "      <td>29.480000</td>\n",
              "      <td>58.945000</td>\n",
              "      <td>103.470001</td>\n",
              "      <td>44.860001</td>\n",
              "      <td>102.435001</td>\n",
              "      <td>218.394997</td>\n",
              "      <td>16.000000</td>\n",
              "      <td>4.000000</td>\n",
              "      <td>27.000000</td>\n",
              "      <td>7.000000</td>\n",
              "      <td>2015.000000</td>\n",
              "      <td>0.000000</td>\n",
              "      <td>0.000000</td>\n",
              "      <td>0.000000</td>\n",
              "      <td>0.000000</td>\n",
              "      <td>0.000000</td>\n",
              "      <td>0.0</td>\n",
              "      <td>0.0</td>\n",
              "      <td>0.000000</td>\n",
              "      <td>0.000000</td>\n",
              "      <td>0.000000</td>\n",
              "      <td>0.000000</td>\n",
              "      <td>0.000000</td>\n",
              "      <td>0.000000</td>\n",
              "      <td>0.000000</td>\n",
              "      <td>0.000000</td>\n",
              "      <td>0.000000</td>\n",
              "      <td>0.000000</td>\n",
              "      <td>0.000000</td>\n",
              "      <td>0.000000</td>\n",
              "      <td>6.000000</td>\n",
              "    </tr>\n",
              "    <tr>\n",
              "      <th>75%</th>\n",
              "      <td>31.340000</td>\n",
              "      <td>68.447498</td>\n",
              "      <td>155.084999</td>\n",
              "      <td>52.580002</td>\n",
              "      <td>113.035000</td>\n",
              "      <td>285.495003</td>\n",
              "      <td>23.000000</td>\n",
              "      <td>5.000000</td>\n",
              "      <td>40.000000</td>\n",
              "      <td>10.000000</td>\n",
              "      <td>2018.000000</td>\n",
              "      <td>0.000000</td>\n",
              "      <td>0.000000</td>\n",
              "      <td>0.000000</td>\n",
              "      <td>0.000000</td>\n",
              "      <td>0.000000</td>\n",
              "      <td>0.0</td>\n",
              "      <td>0.0</td>\n",
              "      <td>0.000000</td>\n",
              "      <td>0.000000</td>\n",
              "      <td>0.000000</td>\n",
              "      <td>0.000000</td>\n",
              "      <td>0.000000</td>\n",
              "      <td>0.000000</td>\n",
              "      <td>0.000000</td>\n",
              "      <td>0.000000</td>\n",
              "      <td>0.000000</td>\n",
              "      <td>0.000000</td>\n",
              "      <td>0.000000</td>\n",
              "      <td>0.000000</td>\n",
              "      <td>9.000000</td>\n",
              "    </tr>\n",
              "    <tr>\n",
              "      <th>max</th>\n",
              "      <td>56.950001</td>\n",
              "      <td>82.639999</td>\n",
              "      <td>282.220001</td>\n",
              "      <td>71.559998</td>\n",
              "      <td>161.130005</td>\n",
              "      <td>1546.010010</td>\n",
              "      <td>31.000000</td>\n",
              "      <td>6.000000</td>\n",
              "      <td>53.000000</td>\n",
              "      <td>12.000000</td>\n",
              "      <td>2020.000000</td>\n",
              "      <td>1.000000</td>\n",
              "      <td>1.000000</td>\n",
              "      <td>1.000000</td>\n",
              "      <td>1.000000</td>\n",
              "      <td>1.000000</td>\n",
              "      <td>0.0</td>\n",
              "      <td>0.0</td>\n",
              "      <td>1.000000</td>\n",
              "      <td>1.000000</td>\n",
              "      <td>1.000000</td>\n",
              "      <td>1.000000</td>\n",
              "      <td>1.000000</td>\n",
              "      <td>1.000000</td>\n",
              "      <td>1.000000</td>\n",
              "      <td>1.000000</td>\n",
              "      <td>1.000000</td>\n",
              "      <td>1.000000</td>\n",
              "      <td>1.000000</td>\n",
              "      <td>1.000000</td>\n",
              "      <td>11.000000</td>\n",
              "    </tr>\n",
              "  </tbody>\n",
              "</table>\n",
              "</div>"
            ],
            "text/plain": [
              "               BEP          EIX  ...          Dec      Year_ID\n",
              "count  2530.000000  2530.000000  ...  2531.000000  2531.000000\n",
              "mean     30.046557    57.494162  ...     0.082576     6.016989\n",
              "std       6.108211    13.401390  ...     0.275295     2.931515\n",
              "min      18.730000    31.129999  ...     0.000000     1.000000\n",
              "25%      26.865000    45.972501  ...     0.000000     4.000000\n",
              "50%      29.480000    58.945000  ...     0.000000     6.000000\n",
              "75%      31.340000    68.447498  ...     0.000000     9.000000\n",
              "max      56.950001    82.639999  ...     1.000000    11.000000\n",
              "\n",
              "[8 rows x 31 columns]"
            ]
          },
          "metadata": {
            "tags": []
          },
          "execution_count": 20
        }
      ]
    },
    {
      "cell_type": "code",
      "metadata": {
        "id": "tLW2fKv571hB",
        "colab_type": "code",
        "colab": {
          "base_uri": "https://localhost:8080/",
          "height": 578
        },
        "outputId": "f3ac0650-a299-4058-9c23-f4e12d6effc0"
      },
      "source": [
        "data.isnull().any()"
      ],
      "execution_count": 21,
      "outputs": [
        {
          "output_type": "execute_result",
          "data": {
            "text/plain": [
              "Date        False\n",
              "BEP          True\n",
              "EIX          True\n",
              "NEE          True\n",
              "PCG          True\n",
              "SRE          True\n",
              "TSLA         True\n",
              "Day         False\n",
              "Week_Day    False\n",
              "Week_Num    False\n",
              "Month       False\n",
              "Year        False\n",
              "Mon         False\n",
              "Tue         False\n",
              "Wed         False\n",
              "Thur        False\n",
              "Fri         False\n",
              "Sat         False\n",
              "Sun         False\n",
              "Jan         False\n",
              "Feb         False\n",
              "Mar         False\n",
              "Apr         False\n",
              "May         False\n",
              "Jun         False\n",
              "Jul         False\n",
              "Aug         False\n",
              "Sep         False\n",
              "Oct         False\n",
              "Nov         False\n",
              "Dec         False\n",
              "Year_ID     False\n",
              "dtype: bool"
            ]
          },
          "metadata": {
            "tags": []
          },
          "execution_count": 21
        }
      ]
    },
    {
      "cell_type": "code",
      "metadata": {
        "id": "meAoITlt54MP",
        "colab_type": "code",
        "colab": {
          "base_uri": "https://localhost:8080/",
          "height": 425
        },
        "outputId": "fb4cf502-c942-4b15-c762-e3887caaa870"
      },
      "source": [
        "print(data[data['BEP'].isnull()==True])\n",
        "print(data[data['EIX'].isnull()==True])\n",
        "print(data[data['NEE'].isnull()==True])\n",
        "print(data[data['PCG'].isnull()==True])\n",
        "print(data[data['SRE'].isnull()==True])\n",
        "print(data[data['TSLA'].isnull()==True])"
      ],
      "execution_count": 22,
      "outputs": [
        {
          "output_type": "stream",
          "text": [
            "         Date  BEP  EIX  NEE  PCG  SRE  ...  Aug  Sep  Oct  Nov  Dec  Year_ID\n",
            "1740  5/29/17  NaN  NaN  NaN  NaN  NaN  ...    0    0    0    0    0        8\n",
            "\n",
            "[1 rows x 32 columns]\n",
            "         Date  BEP  EIX  NEE  PCG  SRE  ...  Aug  Sep  Oct  Nov  Dec  Year_ID\n",
            "1740  5/29/17  NaN  NaN  NaN  NaN  NaN  ...    0    0    0    0    0        8\n",
            "\n",
            "[1 rows x 32 columns]\n",
            "         Date  BEP  EIX  NEE  PCG  SRE  ...  Aug  Sep  Oct  Nov  Dec  Year_ID\n",
            "1740  5/29/17  NaN  NaN  NaN  NaN  NaN  ...    0    0    0    0    0        8\n",
            "\n",
            "[1 rows x 32 columns]\n",
            "         Date  BEP  EIX  NEE  PCG  SRE  ...  Aug  Sep  Oct  Nov  Dec  Year_ID\n",
            "1740  5/29/17  NaN  NaN  NaN  NaN  NaN  ...    0    0    0    0    0        8\n",
            "\n",
            "[1 rows x 32 columns]\n",
            "         Date  BEP  EIX  NEE  PCG  SRE  ...  Aug  Sep  Oct  Nov  Dec  Year_ID\n",
            "1740  5/29/17  NaN  NaN  NaN  NaN  NaN  ...    0    0    0    0    0        8\n",
            "\n",
            "[1 rows x 32 columns]\n",
            "         Date  BEP  EIX  NEE  PCG  SRE  ...  Aug  Sep  Oct  Nov  Dec  Year_ID\n",
            "1740  5/29/17  NaN  NaN  NaN  NaN  NaN  ...    0    0    0    0    0        8\n",
            "\n",
            "[1 rows x 32 columns]\n"
          ],
          "name": "stdout"
        }
      ]
    },
    {
      "cell_type": "code",
      "metadata": {
        "id": "LvMlTxcV8S77",
        "colab_type": "code",
        "colab": {
          "base_uri": "https://localhost:8080/",
          "height": 100
        },
        "outputId": "9ad4ce75-e53c-4e2a-86e1-997bd276d789"
      },
      "source": [
        "data.iloc[[1740]]"
      ],
      "execution_count": 23,
      "outputs": [
        {
          "output_type": "execute_result",
          "data": {
            "text/html": [
              "<div>\n",
              "<style scoped>\n",
              "    .dataframe tbody tr th:only-of-type {\n",
              "        vertical-align: middle;\n",
              "    }\n",
              "\n",
              "    .dataframe tbody tr th {\n",
              "        vertical-align: top;\n",
              "    }\n",
              "\n",
              "    .dataframe thead th {\n",
              "        text-align: right;\n",
              "    }\n",
              "</style>\n",
              "<table border=\"1\" class=\"dataframe\">\n",
              "  <thead>\n",
              "    <tr style=\"text-align: right;\">\n",
              "      <th></th>\n",
              "      <th>Date</th>\n",
              "      <th>BEP</th>\n",
              "      <th>EIX</th>\n",
              "      <th>NEE</th>\n",
              "      <th>PCG</th>\n",
              "      <th>SRE</th>\n",
              "      <th>TSLA</th>\n",
              "      <th>Day</th>\n",
              "      <th>Week_Day</th>\n",
              "      <th>Week_Num</th>\n",
              "      <th>Month</th>\n",
              "      <th>Year</th>\n",
              "      <th>Mon</th>\n",
              "      <th>Tue</th>\n",
              "      <th>Wed</th>\n",
              "      <th>Thur</th>\n",
              "      <th>Fri</th>\n",
              "      <th>Sat</th>\n",
              "      <th>Sun</th>\n",
              "      <th>Jan</th>\n",
              "      <th>Feb</th>\n",
              "      <th>Mar</th>\n",
              "      <th>Apr</th>\n",
              "      <th>May</th>\n",
              "      <th>Jun</th>\n",
              "      <th>Jul</th>\n",
              "      <th>Aug</th>\n",
              "      <th>Sep</th>\n",
              "      <th>Oct</th>\n",
              "      <th>Nov</th>\n",
              "      <th>Dec</th>\n",
              "      <th>Year_ID</th>\n",
              "    </tr>\n",
              "  </thead>\n",
              "  <tbody>\n",
              "    <tr>\n",
              "      <th>1740</th>\n",
              "      <td>5/29/17</td>\n",
              "      <td>NaN</td>\n",
              "      <td>NaN</td>\n",
              "      <td>NaN</td>\n",
              "      <td>NaN</td>\n",
              "      <td>NaN</td>\n",
              "      <td>NaN</td>\n",
              "      <td>29</td>\n",
              "      <td>2</td>\n",
              "      <td>22</td>\n",
              "      <td>5</td>\n",
              "      <td>2017</td>\n",
              "      <td>1</td>\n",
              "      <td>0</td>\n",
              "      <td>0</td>\n",
              "      <td>0</td>\n",
              "      <td>0</td>\n",
              "      <td>0</td>\n",
              "      <td>0</td>\n",
              "      <td>0</td>\n",
              "      <td>0</td>\n",
              "      <td>0</td>\n",
              "      <td>0</td>\n",
              "      <td>1</td>\n",
              "      <td>0</td>\n",
              "      <td>0</td>\n",
              "      <td>0</td>\n",
              "      <td>0</td>\n",
              "      <td>0</td>\n",
              "      <td>0</td>\n",
              "      <td>0</td>\n",
              "      <td>8</td>\n",
              "    </tr>\n",
              "  </tbody>\n",
              "</table>\n",
              "</div>"
            ],
            "text/plain": [
              "         Date  BEP  EIX  NEE  PCG  SRE  ...  Aug  Sep  Oct  Nov  Dec  Year_ID\n",
              "1740  5/29/17  NaN  NaN  NaN  NaN  NaN  ...    0    0    0    0    0        8\n",
              "\n",
              "[1 rows x 32 columns]"
            ]
          },
          "metadata": {
            "tags": []
          },
          "execution_count": 23
        }
      ]
    },
    {
      "cell_type": "code",
      "metadata": {
        "id": "59-nX23e8i_b",
        "colab_type": "code",
        "colab": {}
      },
      "source": [
        "data.dropna(axis=0,inplace=True)"
      ],
      "execution_count": 24,
      "outputs": []
    },
    {
      "cell_type": "code",
      "metadata": {
        "id": "jOn3aQmcbEba",
        "colab_type": "code",
        "colab": {
          "base_uri": "https://localhost:8080/",
          "height": 34
        },
        "outputId": "7f42d560-2ea1-41a8-afef-fe4286e9cac4"
      },
      "source": [
        "#DataFrame Row and Column shape\n",
        "data.shape"
      ],
      "execution_count": 25,
      "outputs": [
        {
          "output_type": "execute_result",
          "data": {
            "text/plain": [
              "(2530, 32)"
            ]
          },
          "metadata": {
            "tags": []
          },
          "execution_count": 25
        }
      ]
    },
    {
      "cell_type": "code",
      "metadata": {
        "id": "VITyX7E58yVU",
        "colab_type": "code",
        "colab": {
          "base_uri": "https://localhost:8080/",
          "height": 680
        },
        "outputId": "7fdc705c-da94-4f8d-8e95-de369dcbaab6"
      },
      "source": [
        "data.info()"
      ],
      "execution_count": 26,
      "outputs": [
        {
          "output_type": "stream",
          "text": [
            "<class 'pandas.core.frame.DataFrame'>\n",
            "Int64Index: 2530 entries, 0 to 2530\n",
            "Data columns (total 32 columns):\n",
            " #   Column    Non-Null Count  Dtype  \n",
            "---  ------    --------------  -----  \n",
            " 0   Date      2530 non-null   object \n",
            " 1   BEP       2530 non-null   float64\n",
            " 2   EIX       2530 non-null   float64\n",
            " 3   NEE       2530 non-null   float64\n",
            " 4   PCG       2530 non-null   float64\n",
            " 5   SRE       2530 non-null   float64\n",
            " 6   TSLA      2530 non-null   float64\n",
            " 7   Day       2530 non-null   int64  \n",
            " 8   Week_Day  2530 non-null   int64  \n",
            " 9   Week_Num  2530 non-null   int64  \n",
            " 10  Month     2530 non-null   int64  \n",
            " 11  Year      2530 non-null   int64  \n",
            " 12  Mon       2530 non-null   int64  \n",
            " 13  Tue       2530 non-null   int64  \n",
            " 14  Wed       2530 non-null   int64  \n",
            " 15  Thur      2530 non-null   int64  \n",
            " 16  Fri       2530 non-null   int64  \n",
            " 17  Sat       2530 non-null   int64  \n",
            " 18  Sun       2530 non-null   int64  \n",
            " 19  Jan       2530 non-null   int64  \n",
            " 20  Feb       2530 non-null   int64  \n",
            " 21  Mar       2530 non-null   int64  \n",
            " 22  Apr       2530 non-null   int64  \n",
            " 23  May       2530 non-null   int64  \n",
            " 24  Jun       2530 non-null   int64  \n",
            " 25  Jul       2530 non-null   int64  \n",
            " 26  Aug       2530 non-null   int64  \n",
            " 27  Sep       2530 non-null   int64  \n",
            " 28  Oct       2530 non-null   int64  \n",
            " 29  Nov       2530 non-null   int64  \n",
            " 30  Dec       2530 non-null   int64  \n",
            " 31  Year_ID   2530 non-null   int64  \n",
            "dtypes: float64(6), int64(25), object(1)\n",
            "memory usage: 652.3+ KB\n"
          ],
          "name": "stdout"
        }
      ]
    },
    {
      "cell_type": "code",
      "metadata": {
        "id": "_KFUZSC9bIHr",
        "colab_type": "code",
        "colab": {
          "base_uri": "https://localhost:8080/",
          "height": 204
        },
        "outputId": "30f5e2ab-aab9-4586-eafa-d06f8cf937e1"
      },
      "source": [
        "price=data.iloc[:,1:7]\n",
        "price.head()"
      ],
      "execution_count": 27,
      "outputs": [
        {
          "output_type": "execute_result",
          "data": {
            "text/html": [
              "<div>\n",
              "<style scoped>\n",
              "    .dataframe tbody tr th:only-of-type {\n",
              "        vertical-align: middle;\n",
              "    }\n",
              "\n",
              "    .dataframe tbody tr th {\n",
              "        vertical-align: top;\n",
              "    }\n",
              "\n",
              "    .dataframe thead th {\n",
              "        text-align: right;\n",
              "    }\n",
              "</style>\n",
              "<table border=\"1\" class=\"dataframe\">\n",
              "  <thead>\n",
              "    <tr style=\"text-align: right;\">\n",
              "      <th></th>\n",
              "      <th>BEP</th>\n",
              "      <th>EIX</th>\n",
              "      <th>NEE</th>\n",
              "      <th>PCG</th>\n",
              "      <th>SRE</th>\n",
              "      <th>TSLA</th>\n",
              "    </tr>\n",
              "  </thead>\n",
              "  <tbody>\n",
              "    <tr>\n",
              "      <th>0</th>\n",
              "      <td>18.830000</td>\n",
              "      <td>31.719999</td>\n",
              "      <td>48.759998</td>\n",
              "      <td>41.099998</td>\n",
              "      <td>46.790001</td>\n",
              "      <td>23.830000</td>\n",
              "    </tr>\n",
              "    <tr>\n",
              "      <th>1</th>\n",
              "      <td>18.830000</td>\n",
              "      <td>31.309999</td>\n",
              "      <td>48.950001</td>\n",
              "      <td>40.840000</td>\n",
              "      <td>46.430000</td>\n",
              "      <td>21.959999</td>\n",
              "    </tr>\n",
              "    <tr>\n",
              "      <th>2</th>\n",
              "      <td>18.740000</td>\n",
              "      <td>31.129999</td>\n",
              "      <td>48.959999</td>\n",
              "      <td>40.730000</td>\n",
              "      <td>46.509998</td>\n",
              "      <td>19.200001</td>\n",
              "    </tr>\n",
              "    <tr>\n",
              "      <th>3</th>\n",
              "      <td>18.730000</td>\n",
              "      <td>31.510000</td>\n",
              "      <td>49.400002</td>\n",
              "      <td>41.389999</td>\n",
              "      <td>47.060001</td>\n",
              "      <td>16.110001</td>\n",
              "    </tr>\n",
              "    <tr>\n",
              "      <th>4</th>\n",
              "      <td>18.940001</td>\n",
              "      <td>32.610001</td>\n",
              "      <td>50.799999</td>\n",
              "      <td>42.259998</td>\n",
              "      <td>48.490002</td>\n",
              "      <td>15.800000</td>\n",
              "    </tr>\n",
              "  </tbody>\n",
              "</table>\n",
              "</div>"
            ],
            "text/plain": [
              "         BEP        EIX        NEE        PCG        SRE       TSLA\n",
              "0  18.830000  31.719999  48.759998  41.099998  46.790001  23.830000\n",
              "1  18.830000  31.309999  48.950001  40.840000  46.430000  21.959999\n",
              "2  18.740000  31.129999  48.959999  40.730000  46.509998  19.200001\n",
              "3  18.730000  31.510000  49.400002  41.389999  47.060001  16.110001\n",
              "4  18.940001  32.610001  50.799999  42.259998  48.490002  15.800000"
            ]
          },
          "metadata": {
            "tags": []
          },
          "execution_count": 27
        }
      ]
    },
    {
      "cell_type": "code",
      "metadata": {
        "id": "4BZKvM0LbkC9",
        "colab_type": "code",
        "colab": {
          "base_uri": "https://localhost:8080/",
          "height": 286
        },
        "outputId": "04f1b81a-aa33-41d1-b23a-47b285e491e0"
      },
      "source": [
        "price.plot()"
      ],
      "execution_count": 28,
      "outputs": [
        {
          "output_type": "execute_result",
          "data": {
            "text/plain": [
              "<matplotlib.axes._subplots.AxesSubplot at 0x7f5f1e2c7eb8>"
            ]
          },
          "metadata": {
            "tags": []
          },
          "execution_count": 28
        },
        {
          "output_type": "display_data",
          "data": {
            "image/png": "[encoded data removed]",
            "text/plain": [
              "<Figure size 432x288 with 1 Axes>"
            ]
          },
          "metadata": {
            "tags": []
          }
        }
      ]
    },
    {
      "cell_type": "markdown",
      "metadata": {
        "id": "yLLl-Jbec_Vb",
        "colab_type": "text"
      },
      "source": [
        "# **Prep Data**\n",
        "**Scaling**"
      ]
    },
    {
      "cell_type": "code",
      "metadata": {
        "id": "WgvI6_cOb6q7",
        "colab_type": "code",
        "colab": {}
      },
      "source": [
        "from sklearn.preprocessing import MinMaxScaler"
      ],
      "execution_count": 29,
      "outputs": []
    },
    {
      "cell_type": "code",
      "metadata": {
        "id": "RqTCd5KDcxHO",
        "colab_type": "code",
        "colab": {}
      },
      "source": [
        "scaler = MinMaxScaler()"
      ],
      "execution_count": 30,
      "outputs": []
    },
    {
      "cell_type": "code",
      "metadata": {
        "id": "m7C7ESgvcyOf",
        "colab_type": "code",
        "colab": {
          "base_uri": "https://localhost:8080/",
          "height": 34
        },
        "outputId": "83a751ba-2b64-4980-89b6-d46c5d24038d"
      },
      "source": [
        "scaler.fit(price)"
      ],
      "execution_count": 31,
      "outputs": [
        {
          "output_type": "execute_result",
          "data": {
            "text/plain": [
              "MinMaxScaler(copy=True, feature_range=(0, 1))"
            ]
          },
          "metadata": {
            "tags": []
          },
          "execution_count": 31
        }
      ]
    },
    {
      "cell_type": "code",
      "metadata": {
        "id": "ZBI_6goMcz-F",
        "colab_type": "code",
        "colab": {
          "base_uri": "https://localhost:8080/",
          "height": 204
        },
        "outputId": "a7ccb26a-7769-42bf-fd97-b5ce36f9b93d"
      },
      "source": [
        "xs = pd.DataFrame(scaler.transform(price), columns=price.columns, index=price.index)\n",
        "xs.head()"
      ],
      "execution_count": 32,
      "outputs": [
        {
          "output_type": "execute_result",
          "data": {
            "text/html": [
              "<div>\n",
              "<style scoped>\n",
              "    .dataframe tbody tr th:only-of-type {\n",
              "        vertical-align: middle;\n",
              "    }\n",
              "\n",
              "    .dataframe tbody tr th {\n",
              "        vertical-align: top;\n",
              "    }\n",
              "\n",
              "    .dataframe thead th {\n",
              "        text-align: right;\n",
              "    }\n",
              "</style>\n",
              "<table border=\"1\" class=\"dataframe\">\n",
              "  <thead>\n",
              "    <tr style=\"text-align: right;\">\n",
              "      <th></th>\n",
              "      <th>BEP</th>\n",
              "      <th>EIX</th>\n",
              "      <th>NEE</th>\n",
              "      <th>PCG</th>\n",
              "      <th>SRE</th>\n",
              "      <th>TSLA</th>\n",
              "    </tr>\n",
              "  </thead>\n",
              "  <tbody>\n",
              "    <tr>\n",
              "      <th>0</th>\n",
              "      <td>0.002616</td>\n",
              "      <td>0.011454</td>\n",
              "      <td>0.000000</td>\n",
              "      <td>0.550472</td>\n",
              "      <td>0.010386</td>\n",
              "      <td>0.005248</td>\n",
              "    </tr>\n",
              "    <tr>\n",
              "      <th>1</th>\n",
              "      <td>0.002616</td>\n",
              "      <td>0.003494</td>\n",
              "      <td>0.000814</td>\n",
              "      <td>0.546635</td>\n",
              "      <td>0.007270</td>\n",
              "      <td>0.004026</td>\n",
              "    </tr>\n",
              "    <tr>\n",
              "      <th>2</th>\n",
              "      <td>0.000262</td>\n",
              "      <td>0.000000</td>\n",
              "      <td>0.000857</td>\n",
              "      <td>0.545012</td>\n",
              "      <td>0.007963</td>\n",
              "      <td>0.002222</td>\n",
              "    </tr>\n",
              "    <tr>\n",
              "      <th>3</th>\n",
              "      <td>0.000000</td>\n",
              "      <td>0.007377</td>\n",
              "      <td>0.002741</td>\n",
              "      <td>0.554752</td>\n",
              "      <td>0.012723</td>\n",
              "      <td>0.000203</td>\n",
              "    </tr>\n",
              "    <tr>\n",
              "      <th>4</th>\n",
              "      <td>0.005495</td>\n",
              "      <td>0.028732</td>\n",
              "      <td>0.008738</td>\n",
              "      <td>0.567591</td>\n",
              "      <td>0.025100</td>\n",
              "      <td>0.000000</td>\n",
              "    </tr>\n",
              "  </tbody>\n",
              "</table>\n",
              "</div>"
            ],
            "text/plain": [
              "        BEP       EIX       NEE       PCG       SRE      TSLA\n",
              "0  0.002616  0.011454  0.000000  0.550472  0.010386  0.005248\n",
              "1  0.002616  0.003494  0.000814  0.546635  0.007270  0.004026\n",
              "2  0.000262  0.000000  0.000857  0.545012  0.007963  0.002222\n",
              "3  0.000000  0.007377  0.002741  0.554752  0.012723  0.000203\n",
              "4  0.005495  0.028732  0.008738  0.567591  0.025100  0.000000"
            ]
          },
          "metadata": {
            "tags": []
          },
          "execution_count": 32
        }
      ]
    },
    {
      "cell_type": "markdown",
      "metadata": {
        "id": "SRdLzSfcdg8N",
        "colab_type": "text"
      },
      "source": [
        "**Reshape Data into RNN Format**\n"
      ]
    },
    {
      "cell_type": "code",
      "metadata": {
        "id": "AnT4hmFkdlWl",
        "colab_type": "code",
        "colab": {}
      },
      "source": [
        "def create_multivariate_rnn_data(data, window_size):\n",
        "    y = data[window_size:]\n",
        "    n = data.shape[0]\n",
        "    X = np.stack([data[i: j] for i, j in enumerate(range(window_size, n))], axis=0)\n",
        "    return X, y"
      ],
      "execution_count": 40,
      "outputs": []
    },
    {
      "cell_type": "code",
      "metadata": {
        "id": "NksvWBtxdx-0",
        "colab_type": "code",
        "colab": {}
      },
      "source": [
        "window_size = 5"
      ],
      "execution_count": 41,
      "outputs": []
    },
    {
      "cell_type": "code",
      "metadata": {
        "id": "mBW64wVKd1Sw",
        "colab_type": "code",
        "colab": {}
      },
      "source": [
        "X, y = create_multivariate_rnn_data(xs, window_size=window_size)"
      ],
      "execution_count": 42,
      "outputs": []
    },
    {
      "cell_type": "code",
      "metadata": {
        "id": "cYyBQXWZd2ZJ",
        "colab_type": "code",
        "colab": {
          "base_uri": "https://localhost:8080/",
          "height": 34
        },
        "outputId": "3384f6e5-91a7-457b-f7a2-08fb9312c43e"
      },
      "source": [
        "X.shape, y.shape"
      ],
      "execution_count": 43,
      "outputs": [
        {
          "output_type": "execute_result",
          "data": {
            "text/plain": [
              "((2525, 5, 6), (2525, 6))"
            ]
          },
          "metadata": {
            "tags": []
          },
          "execution_count": 43
        }
      ]
    },
    {
      "cell_type": "code",
      "metadata": {
        "id": "J5C4RzR7d3jh",
        "colab_type": "code",
        "colab": {}
      },
      "source": [
        "from sklearn.model_selection import train_test_split"
      ],
      "execution_count": 44,
      "outputs": []
    },
    {
      "cell_type": "code",
      "metadata": {
        "id": "l0fCZuJaeepL",
        "colab_type": "code",
        "colab": {}
      },
      "source": [
        "X_train, X_test, y_train, y_test = train_test_split(X, y, test_size=0.33, random_state=42,shuffle=False)"
      ],
      "execution_count": 45,
      "outputs": []
    },
    {
      "cell_type": "code",
      "metadata": {
        "id": "uFIS00bie4Px",
        "colab_type": "code",
        "colab": {
          "base_uri": "https://localhost:8080/",
          "height": 34
        },
        "outputId": "64f98bc0-b343-47a4-df82-2f95c39cd9c7"
      },
      "source": [
        "X_train.shape, X_test.shape"
      ],
      "execution_count": 46,
      "outputs": [
        {
          "output_type": "execute_result",
          "data": {
            "text/plain": [
              "((1691, 5, 6), (834, 5, 6))"
            ]
          },
          "metadata": {
            "tags": []
          },
          "execution_count": 46
        }
      ]
    },
    {
      "cell_type": "code",
      "metadata": {
        "id": "jdOA7kbBfp-w",
        "colab_type": "code",
        "colab": {}
      },
      "source": [
        ""
      ],
      "execution_count": 46,
      "outputs": []
    },
    {
      "cell_type": "markdown",
      "metadata": {
        "id": "RA-aB1qehG1d",
        "colab_type": "text"
      },
      "source": [
        "**Defining the Model Architecture**"
      ]
    },
    {
      "cell_type": "code",
      "metadata": {
        "id": "05IcrbXihPKA",
        "colab_type": "code",
        "colab": {}
      },
      "source": [
        "n_features = output_size = 6"
      ],
      "execution_count": 47,
      "outputs": []
    },
    {
      "cell_type": "code",
      "metadata": {
        "id": "yx4aR-z-hPiI",
        "colab_type": "code",
        "colab": {}
      },
      "source": [
        "lstm1_units = 200\n",
        "lstm2_units = 100"
      ],
      "execution_count": 66,
      "outputs": []
    },
    {
      "cell_type": "code",
      "metadata": {
        "id": "WDoPohT8iD5R",
        "colab_type": "code",
        "colab": {}
      },
      "source": [
        "rnn = Sequential([\n",
        "    LSTM(units=lstm1_units,\n",
        "         dropout=0,\n",
        "         recurrent_dropout=.1,\n",
        "         input_shape=(window_size, n_features), name='LSTM1',\n",
        "         return_sequences=True),\n",
        "    LSTM(units=lstm2_units,\n",
        "         dropout=0,\n",
        "         recurrent_dropout=0,\n",
        "         name='LSTM2'),\n",
        "    Dense(10, name='FC1'),\n",
        "    Dense(output_size, name='Output')\n",
        "])"
      ],
      "execution_count": 67,
      "outputs": []
    },
    {
      "cell_type": "code",
      "metadata": {
        "id": "3h4KveoKiE1a",
        "colab_type": "code",
        "colab": {
          "base_uri": "https://localhost:8080/",
          "height": 289
        },
        "outputId": "6a29f8a9-84c6-40ce-a57b-db15bd17d5c9"
      },
      "source": [
        "rnn.summary()"
      ],
      "execution_count": 68,
      "outputs": [
        {
          "output_type": "stream",
          "text": [
            "Model: \"sequential_2\"\n",
            "_________________________________________________________________\n",
            "Layer (type)                 Output Shape              Param #   \n",
            "=================================================================\n",
            "LSTM1 (LSTM)                 (None, 5, 200)            165600    \n",
            "_________________________________________________________________\n",
            "LSTM2 (LSTM)                 (None, 100)               120400    \n",
            "_________________________________________________________________\n",
            "FC1 (Dense)                  (None, 10)                1010      \n",
            "_________________________________________________________________\n",
            "Output (Dense)               (None, 6)                 66        \n",
            "=================================================================\n",
            "Total params: 287,076\n",
            "Trainable params: 287,076\n",
            "Non-trainable params: 0\n",
            "_________________________________________________________________\n"
          ],
          "name": "stdout"
        }
      ]
    },
    {
      "cell_type": "code",
      "metadata": {
        "id": "Y_vELQPhiGba",
        "colab_type": "code",
        "colab": {}
      },
      "source": [
        "rnn.compile(loss='mae', optimizer='adam', metrics=['accuracy'])"
      ],
      "execution_count": 69,
      "outputs": []
    },
    {
      "cell_type": "markdown",
      "metadata": {
        "id": "wA15XQ7BiSdL",
        "colab_type": "text"
      },
      "source": [
        "##**Train the Model**"
      ]
    },
    {
      "cell_type": "code",
      "metadata": {
        "id": "YKbswt8mkaXN",
        "colab_type": "code",
        "colab": {
          "base_uri": "https://localhost:8080/",
          "height": 1000
        },
        "outputId": "19bf299d-b2d8-4b36-ec3a-4efe0cbf3c78"
      },
      "source": [
        "result = rnn.fit(X_train,\n",
        "                 y_train,\n",
        "                 epochs=100,\n",
        "                 batch_size=24,\n",
        "                 validation_data=(X_test, y_test),\n",
        "                 verbose=1)"
      ],
      "execution_count": 70,
      "outputs": [
        {
          "output_type": "stream",
          "text": [
            "Train on 1691 samples, validate on 834 samples\n",
            "Epoch 1/100\n",
            "1691/1691 [==============================] - 3s 2ms/step - loss: 0.0625 - accuracy: 0.9763 - val_loss: 0.1260 - val_accuracy: 0.4376\n",
            "Epoch 2/100\n",
            "1691/1691 [==============================] - 2s 1ms/step - loss: 0.0179 - accuracy: 0.9799 - val_loss: 0.1189 - val_accuracy: 0.5372\n",
            "Epoch 3/100\n",
            "1691/1691 [==============================] - 2s 1ms/step - loss: 0.0141 - accuracy: 0.9817 - val_loss: 0.1084 - val_accuracy: 0.7266\n",
            "Epoch 4/100\n",
            "1691/1691 [==============================] - 2s 1ms/step - loss: 0.0140 - accuracy: 0.9793 - val_loss: 0.1110 - val_accuracy: 0.7302\n",
            "Epoch 5/100\n",
            "1691/1691 [==============================] - 2s 1ms/step - loss: 0.0137 - accuracy: 0.9846 - val_loss: 0.1060 - val_accuracy: 0.7338\n",
            "Epoch 6/100\n",
            "1691/1691 [==============================] - 2s 1ms/step - loss: 0.0120 - accuracy: 0.9852 - val_loss: 0.0916 - val_accuracy: 0.7302\n",
            "Epoch 7/100\n",
            "1691/1691 [==============================] - 2s 1ms/step - loss: 0.0119 - accuracy: 0.9899 - val_loss: 0.0941 - val_accuracy: 0.7314\n",
            "Epoch 8/100\n",
            "1691/1691 [==============================] - 2s 1ms/step - loss: 0.0111 - accuracy: 0.9894 - val_loss: 0.0872 - val_accuracy: 0.7338\n",
            "Epoch 9/100\n",
            "1691/1691 [==============================] - 2s 1ms/step - loss: 0.0111 - accuracy: 0.9888 - val_loss: 0.0731 - val_accuracy: 0.7326\n",
            "Epoch 10/100\n",
            "1691/1691 [==============================] - 2s 977us/step - loss: 0.0107 - accuracy: 0.9864 - val_loss: 0.0674 - val_accuracy: 0.7386\n",
            "Epoch 11/100\n",
            "1691/1691 [==============================] - 2s 995us/step - loss: 0.0106 - accuracy: 0.9870 - val_loss: 0.0643 - val_accuracy: 0.7866\n",
            "Epoch 12/100\n",
            "1691/1691 [==============================] - 2s 1ms/step - loss: 0.0103 - accuracy: 0.9846 - val_loss: 0.0659 - val_accuracy: 0.7422\n",
            "Epoch 13/100\n",
            "1691/1691 [==============================] - 2s 1ms/step - loss: 0.0106 - accuracy: 0.9876 - val_loss: 0.0686 - val_accuracy: 0.7866\n",
            "Epoch 14/100\n",
            "1691/1691 [==============================] - 2s 1ms/step - loss: 0.0109 - accuracy: 0.9834 - val_loss: 0.0680 - val_accuracy: 0.7206\n",
            "Epoch 15/100\n",
            "1691/1691 [==============================] - 2s 1ms/step - loss: 0.0109 - accuracy: 0.9870 - val_loss: 0.0615 - val_accuracy: 0.7506\n",
            "Epoch 16/100\n",
            "1691/1691 [==============================] - 2s 1ms/step - loss: 0.0104 - accuracy: 0.9870 - val_loss: 0.0632 - val_accuracy: 0.7746\n",
            "Epoch 17/100\n",
            "1691/1691 [==============================] - 2s 1ms/step - loss: 0.0102 - accuracy: 0.9905 - val_loss: 0.0636 - val_accuracy: 0.7602\n",
            "Epoch 18/100\n",
            "1691/1691 [==============================] - 2s 1ms/step - loss: 0.0100 - accuracy: 0.9870 - val_loss: 0.0660 - val_accuracy: 0.6882\n",
            "Epoch 19/100\n",
            "1691/1691 [==============================] - 2s 1ms/step - loss: 0.0104 - accuracy: 0.9840 - val_loss: 0.0682 - val_accuracy: 0.5971\n",
            "Epoch 20/100\n",
            "1691/1691 [==============================] - 2s 1ms/step - loss: 0.0105 - accuracy: 0.9876 - val_loss: 0.0637 - val_accuracy: 0.6379\n",
            "Epoch 21/100\n",
            "1691/1691 [==============================] - 2s 1ms/step - loss: 0.0105 - accuracy: 0.9846 - val_loss: 0.0603 - val_accuracy: 0.7362\n",
            "Epoch 22/100\n",
            "1691/1691 [==============================] - 2s 1ms/step - loss: 0.0104 - accuracy: 0.9888 - val_loss: 0.0646 - val_accuracy: 0.6643\n",
            "Epoch 23/100\n",
            "1691/1691 [==============================] - 2s 1ms/step - loss: 0.0105 - accuracy: 0.9888 - val_loss: 0.0617 - val_accuracy: 0.6739\n",
            "Epoch 24/100\n",
            "1691/1691 [==============================] - 2s 1ms/step - loss: 0.0097 - accuracy: 0.9846 - val_loss: 0.0652 - val_accuracy: 0.5947\n",
            "Epoch 25/100\n",
            "1691/1691 [==============================] - 2s 1ms/step - loss: 0.0099 - accuracy: 0.9852 - val_loss: 0.0534 - val_accuracy: 0.8189\n",
            "Epoch 26/100\n",
            "1691/1691 [==============================] - 2s 1ms/step - loss: 0.0102 - accuracy: 0.9870 - val_loss: 0.0650 - val_accuracy: 0.7254\n",
            "Epoch 27/100\n",
            "1691/1691 [==============================] - 2s 1ms/step - loss: 0.0100 - accuracy: 0.9888 - val_loss: 0.0589 - val_accuracy: 0.7878\n",
            "Epoch 28/100\n",
            "1691/1691 [==============================] - 2s 1ms/step - loss: 0.0102 - accuracy: 0.9834 - val_loss: 0.0572 - val_accuracy: 0.7290\n",
            "Epoch 29/100\n",
            "1691/1691 [==============================] - 2s 1ms/step - loss: 0.0099 - accuracy: 0.9858 - val_loss: 0.0642 - val_accuracy: 0.6655\n",
            "Epoch 30/100\n",
            "1691/1691 [==============================] - 2s 1ms/step - loss: 0.0103 - accuracy: 0.9870 - val_loss: 0.0573 - val_accuracy: 0.6966\n",
            "Epoch 31/100\n",
            "1691/1691 [==============================] - 2s 1ms/step - loss: 0.0091 - accuracy: 0.9870 - val_loss: 0.0534 - val_accuracy: 0.7926\n",
            "Epoch 32/100\n",
            "1691/1691 [==============================] - 2s 1ms/step - loss: 0.0104 - accuracy: 0.9876 - val_loss: 0.0583 - val_accuracy: 0.7494\n",
            "Epoch 33/100\n",
            "1691/1691 [==============================] - 2s 1ms/step - loss: 0.0094 - accuracy: 0.9876 - val_loss: 0.0583 - val_accuracy: 0.7602\n",
            "Epoch 34/100\n",
            "1691/1691 [==============================] - 2s 1ms/step - loss: 0.0097 - accuracy: 0.9840 - val_loss: 0.0605 - val_accuracy: 0.6859\n",
            "Epoch 35/100\n",
            "1691/1691 [==============================] - 2s 1ms/step - loss: 0.0094 - accuracy: 0.9899 - val_loss: 0.0570 - val_accuracy: 0.6882\n",
            "Epoch 36/100\n",
            "1691/1691 [==============================] - 2s 1ms/step - loss: 0.0097 - accuracy: 0.9846 - val_loss: 0.0574 - val_accuracy: 0.7182\n",
            "Epoch 37/100\n",
            "1691/1691 [==============================] - 2s 1ms/step - loss: 0.0094 - accuracy: 0.9882 - val_loss: 0.0601 - val_accuracy: 0.7014\n",
            "Epoch 38/100\n",
            "1691/1691 [==============================] - 2s 1ms/step - loss: 0.0089 - accuracy: 0.9858 - val_loss: 0.0575 - val_accuracy: 0.6451\n",
            "Epoch 39/100\n",
            "1691/1691 [==============================] - 2s 1ms/step - loss: 0.0097 - accuracy: 0.9817 - val_loss: 0.0607 - val_accuracy: 0.7014\n",
            "Epoch 40/100\n",
            "1691/1691 [==============================] - 2s 1ms/step - loss: 0.0089 - accuracy: 0.9852 - val_loss: 0.0591 - val_accuracy: 0.6199\n",
            "Epoch 41/100\n",
            "1691/1691 [==============================] - 2s 1ms/step - loss: 0.0092 - accuracy: 0.9870 - val_loss: 0.0567 - val_accuracy: 0.7086\n",
            "Epoch 42/100\n",
            "1691/1691 [==============================] - 2s 1ms/step - loss: 0.0092 - accuracy: 0.9888 - val_loss: 0.0545 - val_accuracy: 0.6571\n",
            "Epoch 43/100\n",
            "1691/1691 [==============================] - 2s 1ms/step - loss: 0.0089 - accuracy: 0.9852 - val_loss: 0.0527 - val_accuracy: 0.7146\n",
            "Epoch 44/100\n",
            "1691/1691 [==============================] - 2s 1ms/step - loss: 0.0090 - accuracy: 0.9864 - val_loss: 0.0553 - val_accuracy: 0.6739\n",
            "Epoch 45/100\n",
            "1691/1691 [==============================] - 2s 1ms/step - loss: 0.0092 - accuracy: 0.9911 - val_loss: 0.0582 - val_accuracy: 0.6763\n",
            "Epoch 46/100\n",
            "1691/1691 [==============================] - 2s 1ms/step - loss: 0.0089 - accuracy: 0.9864 - val_loss: 0.0584 - val_accuracy: 0.6223\n",
            "Epoch 47/100\n",
            "1691/1691 [==============================] - 2s 1ms/step - loss: 0.0084 - accuracy: 0.9911 - val_loss: 0.0614 - val_accuracy: 0.5324\n",
            "Epoch 48/100\n",
            "1691/1691 [==============================] - 2s 1ms/step - loss: 0.0091 - accuracy: 0.9882 - val_loss: 0.0569 - val_accuracy: 0.5827\n",
            "Epoch 49/100\n",
            "1691/1691 [==============================] - 2s 1ms/step - loss: 0.0088 - accuracy: 0.9882 - val_loss: 0.0602 - val_accuracy: 0.5815\n",
            "Epoch 50/100\n",
            "1691/1691 [==============================] - 2s 1ms/step - loss: 0.0087 - accuracy: 0.9888 - val_loss: 0.0563 - val_accuracy: 0.7002\n",
            "Epoch 51/100\n",
            "1691/1691 [==============================] - 2s 997us/step - loss: 0.0084 - accuracy: 0.9852 - val_loss: 0.0514 - val_accuracy: 0.6547\n",
            "Epoch 52/100\n",
            "1691/1691 [==============================] - 2s 1ms/step - loss: 0.0086 - accuracy: 0.9876 - val_loss: 0.0554 - val_accuracy: 0.7002\n",
            "Epoch 53/100\n",
            "1691/1691 [==============================] - 2s 1ms/step - loss: 0.0084 - accuracy: 0.9882 - val_loss: 0.0593 - val_accuracy: 0.6271\n",
            "Epoch 54/100\n",
            "1691/1691 [==============================] - 2s 1ms/step - loss: 0.0088 - accuracy: 0.9864 - val_loss: 0.0647 - val_accuracy: 0.5324\n",
            "Epoch 55/100\n",
            "1691/1691 [==============================] - 2s 1ms/step - loss: 0.0090 - accuracy: 0.9899 - val_loss: 0.0508 - val_accuracy: 0.7302\n",
            "Epoch 56/100\n",
            "1691/1691 [==============================] - 2s 1ms/step - loss: 0.0082 - accuracy: 0.9888 - val_loss: 0.0509 - val_accuracy: 0.7938\n",
            "Epoch 57/100\n",
            "1691/1691 [==============================] - 2s 1ms/step - loss: 0.0085 - accuracy: 0.9882 - val_loss: 0.0527 - val_accuracy: 0.7386\n",
            "Epoch 58/100\n",
            "1691/1691 [==============================] - 2s 1ms/step - loss: 0.0087 - accuracy: 0.9888 - val_loss: 0.0648 - val_accuracy: 0.5516\n",
            "Epoch 59/100\n",
            "1691/1691 [==============================] - 2s 1ms/step - loss: 0.0082 - accuracy: 0.9882 - val_loss: 0.0588 - val_accuracy: 0.5492\n",
            "Epoch 60/100\n",
            "1691/1691 [==============================] - 2s 1ms/step - loss: 0.0083 - accuracy: 0.9882 - val_loss: 0.0580 - val_accuracy: 0.5528\n",
            "Epoch 61/100\n",
            "1691/1691 [==============================] - 2s 1ms/step - loss: 0.0082 - accuracy: 0.9870 - val_loss: 0.0638 - val_accuracy: 0.5971\n",
            "Epoch 62/100\n",
            "1691/1691 [==============================] - 2s 1ms/step - loss: 0.0080 - accuracy: 0.9899 - val_loss: 0.0612 - val_accuracy: 0.5036\n",
            "Epoch 63/100\n",
            "1691/1691 [==============================] - 2s 1ms/step - loss: 0.0080 - accuracy: 0.9917 - val_loss: 0.0515 - val_accuracy: 0.7050\n",
            "Epoch 64/100\n",
            "1691/1691 [==============================] - 2s 1ms/step - loss: 0.0087 - accuracy: 0.9823 - val_loss: 0.0606 - val_accuracy: 0.5540\n",
            "Epoch 65/100\n",
            "1691/1691 [==============================] - 2s 1ms/step - loss: 0.0084 - accuracy: 0.9905 - val_loss: 0.0685 - val_accuracy: 0.5396\n",
            "Epoch 66/100\n",
            "1691/1691 [==============================] - 2s 1ms/step - loss: 0.0081 - accuracy: 0.9846 - val_loss: 0.0629 - val_accuracy: 0.5576\n",
            "Epoch 67/100\n",
            "1691/1691 [==============================] - 2s 1ms/step - loss: 0.0081 - accuracy: 0.9858 - val_loss: 0.0687 - val_accuracy: 0.4736\n",
            "Epoch 68/100\n",
            "1691/1691 [==============================] - 2s 1ms/step - loss: 0.0079 - accuracy: 0.9882 - val_loss: 0.0547 - val_accuracy: 0.6259\n",
            "Epoch 69/100\n",
            "1691/1691 [==============================] - 2s 1ms/step - loss: 0.0084 - accuracy: 0.9905 - val_loss: 0.0638 - val_accuracy: 0.6067\n",
            "Epoch 70/100\n",
            "1691/1691 [==============================] - 2s 1ms/step - loss: 0.0076 - accuracy: 0.9894 - val_loss: 0.0649 - val_accuracy: 0.5240\n",
            "Epoch 71/100\n",
            "1691/1691 [==============================] - 2s 1ms/step - loss: 0.0083 - accuracy: 0.9858 - val_loss: 0.0641 - val_accuracy: 0.5132\n",
            "Epoch 72/100\n",
            "1691/1691 [==============================] - 2s 998us/step - loss: 0.0077 - accuracy: 0.9917 - val_loss: 0.0592 - val_accuracy: 0.5947\n",
            "Epoch 73/100\n",
            "1691/1691 [==============================] - 2s 977us/step - loss: 0.0076 - accuracy: 0.9905 - val_loss: 0.0622 - val_accuracy: 0.5971\n",
            "Epoch 74/100\n",
            "1691/1691 [==============================] - 2s 1ms/step - loss: 0.0081 - accuracy: 0.9905 - val_loss: 0.0659 - val_accuracy: 0.5348\n",
            "Epoch 75/100\n",
            "1691/1691 [==============================] - 2s 1ms/step - loss: 0.0081 - accuracy: 0.9882 - val_loss: 0.0604 - val_accuracy: 0.5947\n",
            "Epoch 76/100\n",
            "1691/1691 [==============================] - 2s 1ms/step - loss: 0.0080 - accuracy: 0.9852 - val_loss: 0.0594 - val_accuracy: 0.5923\n",
            "Epoch 77/100\n",
            "1691/1691 [==============================] - 2s 1ms/step - loss: 0.0078 - accuracy: 0.9852 - val_loss: 0.0615 - val_accuracy: 0.5839\n",
            "Epoch 78/100\n",
            "1691/1691 [==============================] - 2s 1ms/step - loss: 0.0080 - accuracy: 0.9899 - val_loss: 0.0598 - val_accuracy: 0.6079\n",
            "Epoch 79/100\n",
            "1691/1691 [==============================] - 2s 1ms/step - loss: 0.0077 - accuracy: 0.9888 - val_loss: 0.0562 - val_accuracy: 0.6415\n",
            "Epoch 80/100\n",
            "1691/1691 [==============================] - 2s 1ms/step - loss: 0.0076 - accuracy: 0.9905 - val_loss: 0.0630 - val_accuracy: 0.5923\n",
            "Epoch 81/100\n",
            "1691/1691 [==============================] - 2s 1ms/step - loss: 0.0074 - accuracy: 0.9911 - val_loss: 0.0504 - val_accuracy: 0.7098\n",
            "Epoch 82/100\n",
            "1691/1691 [==============================] - 2s 1ms/step - loss: 0.0076 - accuracy: 0.9876 - val_loss: 0.0608 - val_accuracy: 0.5707\n",
            "Epoch 83/100\n",
            "1691/1691 [==============================] - 2s 1ms/step - loss: 0.0074 - accuracy: 0.9882 - val_loss: 0.0649 - val_accuracy: 0.5875\n",
            "Epoch 84/100\n",
            "1691/1691 [==============================] - 2s 1ms/step - loss: 0.0077 - accuracy: 0.9888 - val_loss: 0.0592 - val_accuracy: 0.5348\n",
            "Epoch 85/100\n",
            "1691/1691 [==============================] - 2s 1ms/step - loss: 0.0075 - accuracy: 0.9888 - val_loss: 0.0589 - val_accuracy: 0.6007\n",
            "Epoch 86/100\n",
            "1691/1691 [==============================] - 2s 1ms/step - loss: 0.0072 - accuracy: 0.9899 - val_loss: 0.0568 - val_accuracy: 0.5743\n",
            "Epoch 87/100\n",
            "1691/1691 [==============================] - 2s 1ms/step - loss: 0.0074 - accuracy: 0.9870 - val_loss: 0.0562 - val_accuracy: 0.5791\n",
            "Epoch 88/100\n",
            "1691/1691 [==============================] - 2s 1ms/step - loss: 0.0076 - accuracy: 0.9894 - val_loss: 0.0585 - val_accuracy: 0.6151\n",
            "Epoch 89/100\n",
            "1691/1691 [==============================] - 2s 1ms/step - loss: 0.0075 - accuracy: 0.9870 - val_loss: 0.0605 - val_accuracy: 0.5983\n",
            "Epoch 90/100\n",
            "1691/1691 [==============================] - 2s 1ms/step - loss: 0.0079 - accuracy: 0.9894 - val_loss: 0.0631 - val_accuracy: 0.5995\n",
            "Epoch 91/100\n",
            "1691/1691 [==============================] - 2s 1ms/step - loss: 0.0074 - accuracy: 0.9882 - val_loss: 0.0599 - val_accuracy: 0.5264\n",
            "Epoch 92/100\n",
            "1691/1691 [==============================] - 2s 1ms/step - loss: 0.0081 - accuracy: 0.9899 - val_loss: 0.0568 - val_accuracy: 0.6175\n",
            "Epoch 93/100\n",
            "1691/1691 [==============================] - 2s 1ms/step - loss: 0.0075 - accuracy: 0.9882 - val_loss: 0.0632 - val_accuracy: 0.5396\n",
            "Epoch 94/100\n",
            "1691/1691 [==============================] - 2s 1ms/step - loss: 0.0071 - accuracy: 0.9911 - val_loss: 0.0559 - val_accuracy: 0.5899\n",
            "Epoch 95/100\n",
            "1691/1691 [==============================] - 2s 1ms/step - loss: 0.0073 - accuracy: 0.9882 - val_loss: 0.0564 - val_accuracy: 0.6247\n",
            "Epoch 96/100\n",
            "1691/1691 [==============================] - 2s 1ms/step - loss: 0.0075 - accuracy: 0.9888 - val_loss: 0.0590 - val_accuracy: 0.6187\n",
            "Epoch 97/100\n",
            "1691/1691 [==============================] - 2s 1ms/step - loss: 0.0070 - accuracy: 0.9917 - val_loss: 0.0581 - val_accuracy: 0.6151\n",
            "Epoch 98/100\n",
            "1691/1691 [==============================] - 2s 1ms/step - loss: 0.0070 - accuracy: 0.9905 - val_loss: 0.0581 - val_accuracy: 0.5971\n",
            "Epoch 99/100\n",
            "1691/1691 [==============================] - 2s 1ms/step - loss: 0.0074 - accuracy: 0.9876 - val_loss: 0.0590 - val_accuracy: 0.6187\n",
            "Epoch 100/100\n",
            "1691/1691 [==============================] - 2s 1ms/step - loss: 0.0073 - accuracy: 0.9899 - val_loss: 0.0611 - val_accuracy: 0.5899\n"
          ],
          "name": "stdout"
        }
      ]
    },
    {
      "cell_type": "code",
      "metadata": {
        "id": "s0oHn1_akn5T",
        "colab_type": "code",
        "colab": {
          "base_uri": "https://localhost:8080/",
          "height": 268
        },
        "outputId": "eb815799-29fc-4a62-a37f-fe6e04a9c8e3"
      },
      "source": [
        "pd.DataFrame(result.history).plot();"
      ],
      "execution_count": 71,
      "outputs": [
        {
          "output_type": "display_data",
          "data": {
            "image/png": "[encoded data removed]",
            "text/plain": [
              "<Figure size 432x288 with 1 Axes>"
            ]
          },
          "metadata": {
            "tags": []
          }
        }
      ]
    },
    {
      "cell_type": "code",
      "metadata": {
        "id": "MTqWszKQrtyP",
        "colab_type": "code",
        "colab": {
          "base_uri": "https://localhost:8080/",
          "height": 204
        },
        "outputId": "52a06b20-2f09-49a1-8e83-90cc02320d32"
      },
      "source": [
        "y_pred = pd.DataFrame(rnn.predict(X_test), columns=y_test.columns, index=y_test.index)\n",
        "y_pred.head()"
      ],
      "execution_count": 72,
      "outputs": [
        {
          "output_type": "execute_result",
          "data": {
            "text/html": [
              "<div>\n",
              "<style scoped>\n",
              "    .dataframe tbody tr th:only-of-type {\n",
              "        vertical-align: middle;\n",
              "    }\n",
              "\n",
              "    .dataframe tbody tr th {\n",
              "        vertical-align: top;\n",
              "    }\n",
              "\n",
              "    .dataframe thead th {\n",
              "        text-align: right;\n",
              "    }\n",
              "</style>\n",
              "<table border=\"1\" class=\"dataframe\">\n",
              "  <thead>\n",
              "    <tr style=\"text-align: right;\">\n",
              "      <th></th>\n",
              "      <th>BEP</th>\n",
              "      <th>EIX</th>\n",
              "      <th>NEE</th>\n",
              "      <th>PCG</th>\n",
              "      <th>SRE</th>\n",
              "      <th>TSLA</th>\n",
              "    </tr>\n",
              "  </thead>\n",
              "  <tbody>\n",
              "    <tr>\n",
              "      <th>1696</th>\n",
              "      <td>0.285135</td>\n",
              "      <td>0.957983</td>\n",
              "      <td>0.361819</td>\n",
              "      <td>0.939602</td>\n",
              "      <td>0.576034</td>\n",
              "      <td>0.161111</td>\n",
              "    </tr>\n",
              "    <tr>\n",
              "      <th>1697</th>\n",
              "      <td>0.285503</td>\n",
              "      <td>0.953943</td>\n",
              "      <td>0.356883</td>\n",
              "      <td>0.934533</td>\n",
              "      <td>0.569441</td>\n",
              "      <td>0.164254</td>\n",
              "    </tr>\n",
              "    <tr>\n",
              "      <th>1698</th>\n",
              "      <td>0.288189</td>\n",
              "      <td>0.962260</td>\n",
              "      <td>0.358177</td>\n",
              "      <td>0.938263</td>\n",
              "      <td>0.573876</td>\n",
              "      <td>0.168745</td>\n",
              "    </tr>\n",
              "    <tr>\n",
              "      <th>1699</th>\n",
              "      <td>0.295646</td>\n",
              "      <td>0.946062</td>\n",
              "      <td>0.352624</td>\n",
              "      <td>0.926814</td>\n",
              "      <td>0.568129</td>\n",
              "      <td>0.170685</td>\n",
              "    </tr>\n",
              "    <tr>\n",
              "      <th>1700</th>\n",
              "      <td>0.290802</td>\n",
              "      <td>0.943860</td>\n",
              "      <td>0.349009</td>\n",
              "      <td>0.924399</td>\n",
              "      <td>0.564780</td>\n",
              "      <td>0.172350</td>\n",
              "    </tr>\n",
              "  </tbody>\n",
              "</table>\n",
              "</div>"
            ],
            "text/plain": [
              "           BEP       EIX       NEE       PCG       SRE      TSLA\n",
              "1696  0.285135  0.957983  0.361819  0.939602  0.576034  0.161111\n",
              "1697  0.285503  0.953943  0.356883  0.934533  0.569441  0.164254\n",
              "1698  0.288189  0.962260  0.358177  0.938263  0.573876  0.168745\n",
              "1699  0.295646  0.946062  0.352624  0.926814  0.568129  0.170685\n",
              "1700  0.290802  0.943860  0.349009  0.924399  0.564780  0.172350"
            ]
          },
          "metadata": {
            "tags": []
          },
          "execution_count": 72
        }
      ]
    },
    {
      "cell_type": "code",
      "metadata": {
        "id": "8AUVoCc57eCL",
        "colab_type": "code",
        "colab": {}
      },
      "source": [
        "y_pred_act = pd.DataFrame(scaler.inverse_transform(y_pred), columns=y_test.columns, index=y_test.index)"
      ],
      "execution_count": 73,
      "outputs": []
    },
    {
      "cell_type": "code",
      "metadata": {
        "id": "iPDbBJ7y7OKq",
        "colab_type": "code",
        "colab": {
          "base_uri": "https://localhost:8080/",
          "height": 204
        },
        "outputId": "80f3cb76-88b6-4bd1-9f06-9966746145c1"
      },
      "source": [
        "y_pred_act = np.around(y_pred_act)\n",
        "y_pred_act.head()"
      ],
      "execution_count": 74,
      "outputs": [
        {
          "output_type": "execute_result",
          "data": {
            "text/html": [
              "<div>\n",
              "<style scoped>\n",
              "    .dataframe tbody tr th:only-of-type {\n",
              "        vertical-align: middle;\n",
              "    }\n",
              "\n",
              "    .dataframe tbody tr th {\n",
              "        vertical-align: top;\n",
              "    }\n",
              "\n",
              "    .dataframe thead th {\n",
              "        text-align: right;\n",
              "    }\n",
              "</style>\n",
              "<table border=\"1\" class=\"dataframe\">\n",
              "  <thead>\n",
              "    <tr style=\"text-align: right;\">\n",
              "      <th></th>\n",
              "      <th>BEP</th>\n",
              "      <th>EIX</th>\n",
              "      <th>NEE</th>\n",
              "      <th>PCG</th>\n",
              "      <th>SRE</th>\n",
              "      <th>TSLA</th>\n",
              "    </tr>\n",
              "  </thead>\n",
              "  <tbody>\n",
              "    <tr>\n",
              "      <th>1696</th>\n",
              "      <td>30.0</td>\n",
              "      <td>80.0</td>\n",
              "      <td>133.0</td>\n",
              "      <td>67.0</td>\n",
              "      <td>112.0</td>\n",
              "      <td>262.0</td>\n",
              "    </tr>\n",
              "    <tr>\n",
              "      <th>1697</th>\n",
              "      <td>30.0</td>\n",
              "      <td>80.0</td>\n",
              "      <td>132.0</td>\n",
              "      <td>67.0</td>\n",
              "      <td>111.0</td>\n",
              "      <td>267.0</td>\n",
              "    </tr>\n",
              "    <tr>\n",
              "      <th>1698</th>\n",
              "      <td>30.0</td>\n",
              "      <td>81.0</td>\n",
              "      <td>132.0</td>\n",
              "      <td>67.0</td>\n",
              "      <td>112.0</td>\n",
              "      <td>274.0</td>\n",
              "    </tr>\n",
              "    <tr>\n",
              "      <th>1699</th>\n",
              "      <td>30.0</td>\n",
              "      <td>80.0</td>\n",
              "      <td>131.0</td>\n",
              "      <td>67.0</td>\n",
              "      <td>111.0</td>\n",
              "      <td>277.0</td>\n",
              "    </tr>\n",
              "    <tr>\n",
              "      <th>1700</th>\n",
              "      <td>30.0</td>\n",
              "      <td>80.0</td>\n",
              "      <td>130.0</td>\n",
              "      <td>66.0</td>\n",
              "      <td>111.0</td>\n",
              "      <td>280.0</td>\n",
              "    </tr>\n",
              "  </tbody>\n",
              "</table>\n",
              "</div>"
            ],
            "text/plain": [
              "       BEP   EIX    NEE   PCG    SRE   TSLA\n",
              "1696  30.0  80.0  133.0  67.0  112.0  262.0\n",
              "1697  30.0  80.0  132.0  67.0  111.0  267.0\n",
              "1698  30.0  81.0  132.0  67.0  112.0  274.0\n",
              "1699  30.0  80.0  131.0  67.0  111.0  277.0\n",
              "1700  30.0  80.0  130.0  66.0  111.0  280.0"
            ]
          },
          "metadata": {
            "tags": []
          },
          "execution_count": 74
        }
      ]
    },
    {
      "cell_type": "code",
      "metadata": {
        "id": "fxk7zmJd-h_k",
        "colab_type": "code",
        "colab": {
          "base_uri": "https://localhost:8080/",
          "height": 297
        },
        "outputId": "a423b457-51ac-4fd1-fe5e-1392666919c1"
      },
      "source": [
        "y_pred_act.describe()"
      ],
      "execution_count": 75,
      "outputs": [
        {
          "output_type": "execute_result",
          "data": {
            "text/html": [
              "<div>\n",
              "<style scoped>\n",
              "    .dataframe tbody tr th:only-of-type {\n",
              "        vertical-align: middle;\n",
              "    }\n",
              "\n",
              "    .dataframe tbody tr th {\n",
              "        vertical-align: top;\n",
              "    }\n",
              "\n",
              "    .dataframe thead th {\n",
              "        text-align: right;\n",
              "    }\n",
              "</style>\n",
              "<table border=\"1\" class=\"dataframe\">\n",
              "  <thead>\n",
              "    <tr style=\"text-align: right;\">\n",
              "      <th></th>\n",
              "      <th>BEP</th>\n",
              "      <th>EIX</th>\n",
              "      <th>NEE</th>\n",
              "      <th>PCG</th>\n",
              "      <th>SRE</th>\n",
              "      <th>TSLA</th>\n",
              "    </tr>\n",
              "  </thead>\n",
              "  <tbody>\n",
              "    <tr>\n",
              "      <th>count</th>\n",
              "      <td>834.000000</td>\n",
              "      <td>834.000000</td>\n",
              "      <td>834.000000</td>\n",
              "      <td>834.000000</td>\n",
              "      <td>834.000000</td>\n",
              "      <td>834.000000</td>\n",
              "    </tr>\n",
              "    <tr>\n",
              "      <th>mean</th>\n",
              "      <td>35.020382</td>\n",
              "      <td>71.353714</td>\n",
              "      <td>172.910065</td>\n",
              "      <td>44.553955</td>\n",
              "      <td>119.052757</td>\n",
              "      <td>354.834534</td>\n",
              "    </tr>\n",
              "    <tr>\n",
              "      <th>std</th>\n",
              "      <td>6.120900</td>\n",
              "      <td>7.417627</td>\n",
              "      <td>26.383268</td>\n",
              "      <td>13.981815</td>\n",
              "      <td>11.068689</td>\n",
              "      <td>179.169312</td>\n",
              "    </tr>\n",
              "    <tr>\n",
              "      <th>min</th>\n",
              "      <td>25.000000</td>\n",
              "      <td>51.000000</td>\n",
              "      <td>129.000000</td>\n",
              "      <td>17.000000</td>\n",
              "      <td>95.000000</td>\n",
              "      <td>171.000000</td>\n",
              "    </tr>\n",
              "    <tr>\n",
              "      <th>25%</th>\n",
              "      <td>31.000000</td>\n",
              "      <td>65.000000</td>\n",
              "      <td>150.000000</td>\n",
              "      <td>32.000000</td>\n",
              "      <td>112.000000</td>\n",
              "      <td>271.250000</td>\n",
              "    </tr>\n",
              "    <tr>\n",
              "      <th>50%</th>\n",
              "      <td>33.000000</td>\n",
              "      <td>71.000000</td>\n",
              "      <td>166.000000</td>\n",
              "      <td>45.000000</td>\n",
              "      <td>115.000000</td>\n",
              "      <td>309.000000</td>\n",
              "    </tr>\n",
              "    <tr>\n",
              "      <th>75%</th>\n",
              "      <td>37.000000</td>\n",
              "      <td>79.000000</td>\n",
              "      <td>197.750000</td>\n",
              "      <td>53.000000</td>\n",
              "      <td>125.000000</td>\n",
              "      <td>344.000000</td>\n",
              "    </tr>\n",
              "    <tr>\n",
              "      <th>max</th>\n",
              "      <td>54.000000</td>\n",
              "      <td>86.000000</td>\n",
              "      <td>233.000000</td>\n",
              "      <td>70.000000</td>\n",
              "      <td>147.000000</td>\n",
              "      <td>1395.000000</td>\n",
              "    </tr>\n",
              "  </tbody>\n",
              "</table>\n",
              "</div>"
            ],
            "text/plain": [
              "              BEP         EIX         NEE         PCG         SRE         TSLA\n",
              "count  834.000000  834.000000  834.000000  834.000000  834.000000   834.000000\n",
              "mean    35.020382   71.353714  172.910065   44.553955  119.052757   354.834534\n",
              "std      6.120900    7.417627   26.383268   13.981815   11.068689   179.169312\n",
              "min     25.000000   51.000000  129.000000   17.000000   95.000000   171.000000\n",
              "25%     31.000000   65.000000  150.000000   32.000000  112.000000   271.250000\n",
              "50%     33.000000   71.000000  166.000000   45.000000  115.000000   309.000000\n",
              "75%     37.000000   79.000000  197.750000   53.000000  125.000000   344.000000\n",
              "max     54.000000   86.000000  233.000000   70.000000  147.000000  1395.000000"
            ]
          },
          "metadata": {
            "tags": []
          },
          "execution_count": 75
        }
      ]
    },
    {
      "cell_type": "code",
      "metadata": {
        "id": "E6S7-pK0-j2H",
        "colab_type": "code",
        "colab": {
          "base_uri": "https://localhost:8080/",
          "height": 204
        },
        "outputId": "e4635c61-e6aa-4c7c-b00e-88d3ecda0a5c"
      },
      "source": [
        "y_test_act = pd.DataFrame(scaler.inverse_transform(y_test), columns=y_test.columns, index=y_test.index)\n",
        "y_test_act.head()"
      ],
      "execution_count": 76,
      "outputs": [
        {
          "output_type": "execute_result",
          "data": {
            "text/html": [
              "<div>\n",
              "<style scoped>\n",
              "    .dataframe tbody tr th:only-of-type {\n",
              "        vertical-align: middle;\n",
              "    }\n",
              "\n",
              "    .dataframe tbody tr th {\n",
              "        vertical-align: top;\n",
              "    }\n",
              "\n",
              "    .dataframe thead th {\n",
              "        text-align: right;\n",
              "    }\n",
              "</style>\n",
              "<table border=\"1\" class=\"dataframe\">\n",
              "  <thead>\n",
              "    <tr style=\"text-align: right;\">\n",
              "      <th></th>\n",
              "      <th>BEP</th>\n",
              "      <th>EIX</th>\n",
              "      <th>NEE</th>\n",
              "      <th>PCG</th>\n",
              "      <th>SRE</th>\n",
              "      <th>TSLA</th>\n",
              "    </tr>\n",
              "  </thead>\n",
              "  <tbody>\n",
              "    <tr>\n",
              "      <th>1696</th>\n",
              "      <td>29.250000</td>\n",
              "      <td>80.500000</td>\n",
              "      <td>131.100006</td>\n",
              "      <td>67.190002</td>\n",
              "      <td>111.599999</td>\n",
              "      <td>270.220001</td>\n",
              "    </tr>\n",
              "    <tr>\n",
              "      <th>1697</th>\n",
              "      <td>29.320000</td>\n",
              "      <td>80.900002</td>\n",
              "      <td>131.259995</td>\n",
              "      <td>67.339996</td>\n",
              "      <td>112.070000</td>\n",
              "      <td>277.450012</td>\n",
              "    </tr>\n",
              "    <tr>\n",
              "      <th>1698</th>\n",
              "      <td>29.610001</td>\n",
              "      <td>79.820000</td>\n",
              "      <td>130.550003</td>\n",
              "      <td>66.629997</td>\n",
              "      <td>111.279999</td>\n",
              "      <td>277.380005</td>\n",
              "    </tr>\n",
              "    <tr>\n",
              "      <th>1699</th>\n",
              "      <td>29.540001</td>\n",
              "      <td>79.489998</td>\n",
              "      <td>128.130005</td>\n",
              "      <td>66.360001</td>\n",
              "      <td>110.230003</td>\n",
              "      <td>277.920013</td>\n",
              "    </tr>\n",
              "    <tr>\n",
              "      <th>1700</th>\n",
              "      <td>29.730000</td>\n",
              "      <td>79.610001</td>\n",
              "      <td>128.369995</td>\n",
              "      <td>66.360001</td>\n",
              "      <td>110.500000</td>\n",
              "      <td>278.299988</td>\n",
              "    </tr>\n",
              "  </tbody>\n",
              "</table>\n",
              "</div>"
            ],
            "text/plain": [
              "            BEP        EIX         NEE        PCG         SRE        TSLA\n",
              "1696  29.250000  80.500000  131.100006  67.190002  111.599999  270.220001\n",
              "1697  29.320000  80.900002  131.259995  67.339996  112.070000  277.450012\n",
              "1698  29.610001  79.820000  130.550003  66.629997  111.279999  277.380005\n",
              "1699  29.540001  79.489998  128.130005  66.360001  110.230003  277.920013\n",
              "1700  29.730000  79.610001  128.369995  66.360001  110.500000  278.299988"
            ]
          },
          "metadata": {
            "tags": []
          },
          "execution_count": 76
        }
      ]
    },
    {
      "cell_type": "code",
      "metadata": {
        "id": "UjXitckC-o2A",
        "colab_type": "code",
        "colab": {
          "base_uri": "https://localhost:8080/",
          "height": 34
        },
        "outputId": "0ec0dadd-d5a8-44ff-c5f8-6fa4cc2fadc6"
      },
      "source": [
        "test_mae = mean_absolute_error(y_pred_act, y_test_act)\n",
        "test_mae"
      ],
      "execution_count": 77,
      "outputs": [
        {
          "output_type": "execute_result",
          "data": {
            "text/plain": [
              "10.595733464476018"
            ]
          },
          "metadata": {
            "tags": []
          },
          "execution_count": 77
        }
      ]
    },
    {
      "cell_type": "code",
      "metadata": {
        "id": "1TjIA62A-qyG",
        "colab_type": "code",
        "colab": {
          "base_uri": "https://localhost:8080/",
          "height": 34
        },
        "outputId": "807eabcd-3ce0-48c0-964c-b831526b202e"
      },
      "source": [
        "y_test.columns"
      ],
      "execution_count": 78,
      "outputs": [
        {
          "output_type": "execute_result",
          "data": {
            "text/plain": [
              "Index(['BEP', 'EIX', 'NEE', 'PCG', 'SRE', 'TSLA'], dtype='object')"
            ]
          },
          "metadata": {
            "tags": []
          },
          "execution_count": 78
        }
      ]
    },
    {
      "cell_type": "code",
      "metadata": {
        "id": "bIPSukqi_3B4",
        "colab_type": "code",
        "colab": {}
      },
      "source": [
        "test_mae1 = mean_absolute_error(y_pred_act.iloc[:,0], y_test_act.iloc[:,0])\n",
        "test_mae2 = mean_absolute_error(y_pred_act.iloc[:,1], y_test_act.iloc[:,1])\n",
        "test_mae3 = mean_absolute_error(y_pred_act.iloc[:,2], y_test_act.iloc[:,2])\n",
        "test_mae4 = mean_absolute_error(y_pred_act.iloc[:,3], y_test_act.iloc[:,3])\n",
        "test_mae5 = mean_absolute_error(y_pred_act.iloc[:,4], y_test_act.iloc[:,4])\n",
        "test_mae6 = mean_absolute_error(y_pred_act.iloc[:,5], y_test_act.iloc[:,5])"
      ],
      "execution_count": 79,
      "outputs": []
    },
    {
      "cell_type": "code",
      "metadata": {
        "id": "dOOMnPi5AFn7",
        "colab_type": "code",
        "colab": {
          "base_uri": "https://localhost:8080/",
          "height": 119
        },
        "outputId": "44adec35-8a28-4bf4-c88a-d03498873033"
      },
      "source": [
        "print('BEP =',test_mae1)\n",
        "print('EIX =',test_mae2)\n",
        "print('NEE =',test_mae3)\n",
        "print('PCG =',test_mae4)\n",
        "print('SRE =',test_mae5)\n",
        "print('TSLA =',test_mae6)"
      ],
      "execution_count": 80,
      "outputs": [
        {
          "output_type": "stream",
          "text": [
            "BEP = 0.8427817645323742\n",
            "EIX = 3.78959227177458\n",
            "NEE = 13.998357248081525\n",
            "PCG = 10.87682253026139\n",
            "SRE = 3.7547840982254184\n",
            "TSLA = 30.312062873980814\n"
          ],
          "name": "stdout"
        }
      ]
    },
    {
      "cell_type": "code",
      "metadata": {
        "id": "GolZrfaVAeOI",
        "colab_type": "code",
        "colab": {}
      },
      "source": [
        ""
      ],
      "execution_count": 54,
      "outputs": []
    }
  ]
}